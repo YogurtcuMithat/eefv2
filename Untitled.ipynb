{
 "cells": [
  {
   "cell_type": "code",
   "execution_count": null,
   "id": "001d3d34",
   "metadata": {
    "scrolled": true
   },
   "outputs": [],
   "source": [
    "!pip install efficientnet"
   ]
  },
  {
   "cell_type": "code",
   "execution_count": null,
   "id": "f2d5420d",
   "metadata": {},
   "outputs": [],
   "source": [
    "!pip install keras"
   ]
  },
  {
   "cell_type": "code",
   "execution_count": null,
   "id": "87bfd878",
   "metadata": {},
   "outputs": [],
   "source": [
    "!pip install tensorflow"
   ]
  },
  {
   "cell_type": "code",
   "execution_count": null,
   "id": "a344d7ed",
   "metadata": {
    "scrolled": true
   },
   "outputs": [],
   "source": [
    "from keras.models import Sequential,Model\n",
    "from tensorflow.keras.layers import Input\n",
    "from keras.layers.core import Flatten, Dense, Dropout\n",
    "from keras.layers import Conv2D, MaxPooling2D,Input,Concatenate,AveragePooling2D,BatchNormalization\n",
    "from keras.preprocessing.image import ImageDataGenerator\n",
    "import efficientnet.keras as efn\n",
    "from tensorflow.keras.callbacks import Callback\n",
    "from keras.models import Model\n",
    "from keras.layers import Dense, GlobalAveragePooling2D\n",
    "from keras.callbacks import ReduceLROnPlateau, ModelCheckpoint\n",
    "from tensorflow.keras.metrics import Recall, Precision\n",
    "import tensorflow as tf"
   ]
  },
  {
   "cell_type": "code",
   "execution_count": null,
   "id": "f1773ec4",
   "metadata": {},
   "outputs": [],
   "source": [
    "from keras.preprocessing.image import ImageDataGenerator\n",
    "from keras.utils import np_utils\n",
    "\n",
    "trainPath=\"C:\\\\Users\\\\yogur\\\\Desktop\\\\Data\\\\train\"\n",
    "testPath=\"C:\\\\Users\\\\yogur\\\\Desktop\\\\Data\\\\test\"\n",
    "valPath=\"C:\\\\Users\\\\yogur\\\\Desktop\\\\Data\\\\val\"\n",
    "\n",
    "trainDataGen=ImageDataGenerator( rescale=1./255)\n",
    "testDataGen=ImageDataGenerator( rescale=1./255)\n",
    "trainGen=trainDataGen.flow_from_directory(\n",
    "    trainPath,\n",
    "    target_size=(224,224),\n",
    "    class_mode='categorical')\n",
    "\n",
    "testGen=testDataGen.flow_from_directory(\n",
    "    testPath,\n",
    "    target_size=(224,224),\n",
    "    class_mode='categorical')\n",
    "\n",
    "valGen=trainDataGen.flow_from_directory(\n",
    "    valPath,\n",
    "    target_size=(224,224),\n",
    "    class_mode='categorical')"
   ]
  },
  {
   "cell_type": "code",
   "execution_count": null,
   "id": "835d987e",
   "metadata": {},
   "outputs": [],
   "source": [
    "from tensorflow.keras import regularizers\n",
    "pretrained_base = tf.keras.applications.EfficientNetV2M(\n",
    "    include_top = False,\n",
    "    input_shape = (224, 224, 3),\n",
    "    weights = \"imagenet\"\n",
    ")\n",
    "# Eğitilmiş noktalarda dondurma yapılır\n",
    "pretrained_base.trainable = True\n",
    "\n",
    "model = tf.keras.Sequential([\n",
    "    pretrained_base,\n",
    "    tf.keras.layers.GlobalAveragePooling2D(),\n",
    "    tf.keras.layers.Dense(128, activation='sigmoid'),\n",
    "    tf.keras.layers.Dense(64, kernel_regularizer=regularizers.L1L2(l1=1e-5, l2=1e-4), bias_regularizer=regularizers.L2(1e-4), activity_regularizer=regularizers.L2(1e-5)),\n",
    "    tf.keras.layers.Dropout(0.25),\n",
    "    tf.keras.layers.Dense(4, activation='softmax'),\n",
    "   ])\n",
    "model.summary()"
   ]
  },
  {
   "cell_type": "code",
   "execution_count": null,
   "id": "ef929b6e",
   "metadata": {},
   "outputs": [],
   "source": [
    "# Early Stopping çağrı noktası ayarlıyoruz categorical_crossentropy\n",
    "early_stopping1 = tf.keras.callbacks.EarlyStopping(monitor='accuary',\n",
    "                                                 patience=1)"
   ]
  },
  {
   "cell_type": "code",
   "execution_count": null,
   "id": "932ff783",
   "metadata": {},
   "outputs": [],
   "source": [
    "model.compile(\n",
    "    optimizer = tf.keras.optimizers.Adam(0.001),\n",
    "    loss='binary_crossentropy',\n",
    "    metrics='accuracy'\n",
    ")\n",
    "\n",
    "history = model.fit(trainGen,\n",
    "                    epochs = 30, \n",
    "                    validation_data =valGen,\n",
    "                    workers = 8, # Eğitimimizi potansiyel olarak hızlandırmak için daha yüksek çalışan sayısı\n",
    "                    verbose = 1, callbacks=[early_stopping1]\n",
    "                    )"
   ]
  },
  {
   "cell_type": "code",
   "execution_count": null,
   "id": "261cd7d7",
   "metadata": {},
   "outputs": [],
   "source": [
    "import matplotlib\n",
    "import matplotlib.pyplot as plt5\n",
    "\n",
    "plt5.plot(history.history['loss'], 'r', label='Loss Training')\n",
    "plt5.plot(history.history['val_loss'], 'b', label='Loss Validation')\n",
    "plt5.title('Loss Training ve Validation')\n",
    "plt5.ylabel('Loss')\n",
    "plt5.xlabel('Epoch')\n",
    "plt5.axis([0,50,0,1.3])\n",
    "plt5.legend()\n",
    "plt5.show()\n",
    "\n",
    "plt5.plot(history.history['accuracy'], 'r', label='Loss Training')\n",
    "plt5.plot(history.history['val_accuracy'], 'b', label='Loss Validation')\n",
    "plt5.title('Accuracy Training ve Validation')\n",
    "plt5.ylabel('accuracy')\n",
    "plt5.xlabel('val_accuracy')\n",
    "plt5.axis([0,50,0,1])\n",
    "plt5.legend(loc='best')\n",
    "plt5.show()"
   ]
  },
  {
   "cell_type": "code",
   "execution_count": null,
   "id": "e0ced6e2",
   "metadata": {},
   "outputs": [],
   "source": [
    "pretrained_base.trainable = True\n",
    "\n",
    "# Katmanlarda dondurma yapıyoruz\n",
    "for layer in pretrained_base.layers[:-75]:\n",
    "    layer.trainable = False"
   ]
  },
  {
   "cell_type": "code",
   "execution_count": null,
   "id": "5c3939db",
   "metadata": {},
   "outputs": [],
   "source": [
    "# modeli yeniden derliyoruz\n",
    "model.compile(loss='binary_crossentropy',\n",
    "              optimizer='adam',\n",
    "              metrics=['accuracy'])"
   ]
  },
  {
   "cell_type": "code",
   "execution_count": null,
   "id": "2668e648",
   "metadata": {},
   "outputs": [],
   "source": [
    "history_model_fine_tune = model.fit(trainGen, \n",
    "                                    epochs=50, \n",
    "                                    validation_data=valGen, \n",
    "                                    initial_epoch=29,callbacks=[early_stopping1]\n",
    "                                    )"
   ]
  },
  {
   "cell_type": "code",
   "execution_count": null,
   "id": "54c429af",
   "metadata": {},
   "outputs": [],
   "source": [
    "import matplotlib.pyplot as plt\n",
    "import numpy as np\n",
    "#Defining function for confusion matrix plot\n",
    "def plot_confusion_matrix(y_true, y_pred, classes,\n",
    "                          normalize=False,\n",
    "                          title=None,\n",
    "                          cmap=plt.cm.Blues):\n",
    "    if not title:\n",
    "        if normalize:\n",
    "            title = 'Normalized confusion matrix'\n",
    "        else:\n",
    "            title = 'Confusion matrix, without normalization'\n",
    "\n",
    "    # Compute confusion matrix\n",
    "    cm = confusion_matrix(y_true, y_pred)\n",
    "    if normalize:\n",
    "        cm = cm.astype('float') / cm.sum(axis=1)[:, np.newaxis]\n",
    "        print(\"Normalized confusion matrix\")\n",
    "    else:\n",
    "        print('Confusion matrix, without normalization')\n",
    "\n",
    "    #Print Confusion matrix\n",
    "    fig, ax = plt.subplots(figsize=(7,7))\n",
    "    im = ax.imshow(cm, interpolation='nearest', cmap=cmap)\n",
    "    ax.figure.colorbar(im, ax=ax)\n",
    "    # We want to show all ticks...\n",
    "    ax.set(xticks=np.arange(cm.shape[1]),\n",
    "           yticks=np.arange(cm.shape[0]),\n",
    "        xticklabels=classes, yticklabels=classes,\n",
    "           title=title,\n",
    "           ylabel='True label',\n",
    "           xlabel='Predicted label')\n",
    "\n",
    "    # Rotate the tick labels and set their alignment.\n",
    "    plt.setp(ax.get_xticklabels(), rotation=45, ha=\"right\",\n",
    "             rotation_mode=\"anchor\")\n",
    "    # Loop over data dimensions and create text annotations.\n",
    "    fmt = '.2f' if normalize else 'd'\n",
    "    thresh = cm.max() / 2.\n",
    "    for i in range(cm.shape[0]):\n",
    "        for j in range(cm.shape[1]):\n",
    "            ax.text(j, i, format(cm[i, j], fmt),\n",
    "                    ha=\"center\", va=\"center\",\n",
    "                    color=\"white\" if cm[i, j] > thresh else \"black\")\n",
    "    fig.tight_layout()\n",
    "    return ax\n",
    "\n",
    "np.set_printoptions(precision=2)"
   ]
  },
  {
   "cell_type": "code",
   "execution_count": null,
   "id": "2164fa89",
   "metadata": {},
   "outputs": [],
   "source": [
    "#Making prediction yaptığımıkz\n",
    "y_pred=model.predict_generator(testGen, 924)\n",
    "y_true=np.argmax(y_pred,axis=1)\n",
    "\n",
    "#Plotting the confusion matrix\n",
    "from sklearn.metrics import confusion_matrix\n",
    "confusion_mtx=confusion_matrix(testGen.classes, y_true)\n",
    "\n",
    "class_names=['1', '2', '3', '4']\n",
    "\n",
    "# Plotting non-normalized confusion matrix\n",
    "plot_confusion_matrix(testGen.classes, y_true, classes = class_names,title = 'Confusion matrix, without normalization')"
   ]
  },
  {
   "cell_type": "code",
   "execution_count": null,
   "id": "17b40173",
   "metadata": {},
   "outputs": [],
   "source": []
  },
  {
   "cell_type": "code",
   "execution_count": null,
   "id": "fddc64e9",
   "metadata": {},
   "outputs": [],
   "source": []
  },
  {
   "cell_type": "code",
   "execution_count": null,
   "id": "1f7bfd61",
   "metadata": {},
   "outputs": [],
   "source": []
  },
  {
   "cell_type": "code",
   "execution_count": null,
   "id": "116fe07b",
   "metadata": {},
   "outputs": [],
   "source": []
  }
 ],
 "metadata": {
  "kernelspec": {
   "display_name": "Python 3",
   "language": "python",
   "name": "python3"
  },
  "language_info": {
   "codemirror_mode": {
    "name": "ipython",
    "version": 3
   },
   "file_extension": ".py",
   "mimetype": "text/x-python",
   "name": "python",
   "nbconvert_exporter": "python",
   "pygments_lexer": "ipython3",
   "version": "3.9.12"
  }
 },
 "nbformat": 4,
 "nbformat_minor": 5
}
