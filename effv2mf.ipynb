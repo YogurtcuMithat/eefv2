{
 "cells": [
  {
   "cell_type": "code",
   "execution_count": 1,
   "metadata": {
    "id": "ZItacpNR06el"
   },
   "outputs": [],
   "source": [
    "from keras.models import Sequential,Model,Input\n",
    "from keras.layers.core import Flatten, Dense, Dropout\n",
    "from keras.layers import Conv2D, MaxPooling2D,Input,Concatenate,AveragePooling2D,BatchNormalization\n",
    "from keras.preprocessing.image import ImageDataGenerator"
   ]
  },
  {
   "cell_type": "code",
   "execution_count": 2,
   "metadata": {
    "colab": {
     "base_uri": "https://localhost:8080/"
    },
    "id": "RKFRrgX0uKmT",
    "outputId": "564c33fa-e473-4dc7-e265-709d81b93b74"
   },
   "outputs": [
    {
     "name": "stdout",
     "output_type": "stream",
     "text": [
      "Mounted at /content/drive\n"
     ]
    }
   ],
   "source": [
    "from google.colab import drive\n",
    "drive.mount('/content/drive')"
   ]
  },
  {
   "cell_type": "code",
   "execution_count": 3,
   "metadata": {
    "colab": {
     "base_uri": "https://localhost:8080/"
    },
    "id": "CB6bVVCl1K-a",
    "outputId": "54d8b11f-d641-4bdd-a8e8-0d605e164dcb"
   },
   "outputs": [
    {
     "name": "stdout",
     "output_type": "stream",
     "text": [
      "Found 7364 images belonging to 4 classes.\n",
      "Found 924 images belonging to 4 classes.\n",
      "Found 920 images belonging to 4 classes.\n"
     ]
    }
   ],
   "source": [
    "from keras.preprocessing.image import ImageDataGenerator\n",
    "from keras.utils import np_utils\n",
    "\n",
    "trainPath=\"/content/drive/MyDrive/DerinOgrenme/train\"\n",
    "testPath=\"/content/drive/MyDrive/DerinOgrenme/test\"\n",
    "valPath=\"/content/drive/MyDrive/DerinOgrenme/val\"\n",
    "\n",
    "trainDataGen=ImageDataGenerator( rescale=1./255)\n",
    "trainGen=trainDataGen.flow_from_directory(\n",
    "    trainPath,\n",
    "    target_size=(224,224),\n",
    "    class_mode='categorical')\n",
    "\n",
    "testGen=trainDataGen.flow_from_directory(\n",
    "    testPath,\n",
    "    target_size=(224,224),\n",
    "    class_mode='categorical')\n",
    "\n",
    "valGen=trainDataGen.flow_from_directory(\n",
    "    valPath,\n",
    "    target_size=(224,224),\n",
    "    class_mode='categorical')\n",
    "\n"
   ]
  },
  {
   "cell_type": "code",
   "execution_count": 4,
   "metadata": {
    "colab": {
     "base_uri": "https://localhost:8080/"
    },
    "id": "4UDilDOi1r5Y",
    "outputId": "a4ac05b2-413d-47be-f46d-ae08b078512e"
   },
   "outputs": [
    {
     "name": "stdout",
     "output_type": "stream",
     "text": [
      "Looking in indexes: https://pypi.org/simple, https://us-python.pkg.dev/colab-wheels/public/simple/\n",
      "Collecting efficientnet\n",
      "  Downloading efficientnet-1.1.1-py3-none-any.whl (18 kB)\n",
      "Requirement already satisfied: scikit-image in /usr/local/lib/python3.7/dist-packages (from efficientnet) (0.18.3)\n",
      "Collecting keras-applications<=1.0.8,>=1.0.7\n",
      "  Downloading Keras_Applications-1.0.8-py3-none-any.whl (50 kB)\n",
      "\u001b[K     |████████████████████████████████| 50 kB 4.7 MB/s \n",
      "\u001b[?25hRequirement already satisfied: numpy>=1.9.1 in /usr/local/lib/python3.7/dist-packages (from keras-applications<=1.0.8,>=1.0.7->efficientnet) (1.21.6)\n",
      "Requirement already satisfied: h5py in /usr/local/lib/python3.7/dist-packages (from keras-applications<=1.0.8,>=1.0.7->efficientnet) (3.1.0)\n",
      "Requirement already satisfied: cached-property in /usr/local/lib/python3.7/dist-packages (from h5py->keras-applications<=1.0.8,>=1.0.7->efficientnet) (1.5.2)\n",
      "Requirement already satisfied: scipy>=1.0.1 in /usr/local/lib/python3.7/dist-packages (from scikit-image->efficientnet) (1.4.1)\n",
      "Requirement already satisfied: matplotlib!=3.0.0,>=2.0.0 in /usr/local/lib/python3.7/dist-packages (from scikit-image->efficientnet) (3.2.2)\n",
      "Requirement already satisfied: PyWavelets>=1.1.1 in /usr/local/lib/python3.7/dist-packages (from scikit-image->efficientnet) (1.3.0)\n",
      "Requirement already satisfied: tifffile>=2019.7.26 in /usr/local/lib/python3.7/dist-packages (from scikit-image->efficientnet) (2021.11.2)\n",
      "Requirement already satisfied: pillow!=7.1.0,!=7.1.1,>=4.3.0 in /usr/local/lib/python3.7/dist-packages (from scikit-image->efficientnet) (7.1.2)\n",
      "Requirement already satisfied: imageio>=2.3.0 in /usr/local/lib/python3.7/dist-packages (from scikit-image->efficientnet) (2.4.1)\n",
      "Requirement already satisfied: networkx>=2.0 in /usr/local/lib/python3.7/dist-packages (from scikit-image->efficientnet) (2.6.3)\n",
      "Requirement already satisfied: pyparsing!=2.0.4,!=2.1.2,!=2.1.6,>=2.0.1 in /usr/local/lib/python3.7/dist-packages (from matplotlib!=3.0.0,>=2.0.0->scikit-image->efficientnet) (3.0.9)\n",
      "Requirement already satisfied: kiwisolver>=1.0.1 in /usr/local/lib/python3.7/dist-packages (from matplotlib!=3.0.0,>=2.0.0->scikit-image->efficientnet) (1.4.3)\n",
      "Requirement already satisfied: python-dateutil>=2.1 in /usr/local/lib/python3.7/dist-packages (from matplotlib!=3.0.0,>=2.0.0->scikit-image->efficientnet) (2.8.2)\n",
      "Requirement already satisfied: cycler>=0.10 in /usr/local/lib/python3.7/dist-packages (from matplotlib!=3.0.0,>=2.0.0->scikit-image->efficientnet) (0.11.0)\n",
      "Requirement already satisfied: typing-extensions in /usr/local/lib/python3.7/dist-packages (from kiwisolver>=1.0.1->matplotlib!=3.0.0,>=2.0.0->scikit-image->efficientnet) (4.1.1)\n",
      "Requirement already satisfied: six>=1.5 in /usr/local/lib/python3.7/dist-packages (from python-dateutil>=2.1->matplotlib!=3.0.0,>=2.0.0->scikit-image->efficientnet) (1.15.0)\n",
      "Installing collected packages: keras-applications, efficientnet\n",
      "Successfully installed efficientnet-1.1.1 keras-applications-1.0.8\n"
     ]
    }
   ],
   "source": [
    "!pip install efficientnet"
   ]
  },
  {
   "cell_type": "code",
   "execution_count": 5,
   "metadata": {
    "id": "wTiyzQFe2LxE"
   },
   "outputs": [],
   "source": [
    "import efficientnet.keras as efn\n",
    "from tensorflow.keras.callbacks import Callback\n",
    "from keras.models import Model\n",
    "from keras.layers import Dense, GlobalAveragePooling2D\n",
    "from keras.callbacks import ReduceLROnPlateau, ModelCheckpoint\n",
    "from tensorflow.keras.metrics import Recall, Precision\n",
    "import tensorflow as tf"
   ]
  },
  {
   "cell_type": "code",
   "execution_count": null,
   "metadata": {
    "colab": {
     "base_uri": "https://localhost:8080/"
    },
    "id": "RQ16U3by3u5s",
    "outputId": "b0790fb0-c853-48d1-a738-90fd10d5c63f"
   },
   "outputs": [
    {
     "name": "stdout",
     "output_type": "stream",
     "text": [
      "Downloading data from https://storage.googleapis.com/tensorflow/keras-applications/efficientnet_v2/efficientnetv2-m_notop.h5\n",
      "214204416/214201816 [==============================] - 1s 0us/step\n",
      "214212608/214201816 [==============================] - 1s 0us/step\n",
      "Model: \"sequential\"\n",
      "_________________________________________________________________\n",
      " Layer (type)                Output Shape              Param #   \n",
      "=================================================================\n",
      " efficientnetv2-m (Functiona  (None, 7, 7, 1280)       53150388  \n",
      " l)                                                              \n",
      "                                                                 \n",
      " global_average_pooling2d (G  (None, 1280)             0         \n",
      " lobalAveragePooling2D)                                          \n",
      "                                                                 \n",
      " dense (Dense)               (None, 128)               163968    \n",
      "                                                                 \n",
      " dropout (Dropout)           (None, 128)               0         \n",
      "                                                                 \n",
      " dense_1 (Dense)             (None, 4)                 516       \n",
      "                                                                 \n",
      "=================================================================\n",
      "Total params: 53,314,872\n",
      "Trainable params: 164,484\n",
      "Non-trainable params: 53,150,388\n",
      "_________________________________________________________________\n"
     ]
    }
   ],
   "source": [
    "\n",
    "pretrained_base = tf.keras.applications.EfficientNetV2M(\n",
    "    include_top = False,\n",
    "    input_shape = (224, 224, 3),\n",
    "    weights = \"imagenet\"\n",
    ")\n",
    "# Eğitilmiş noktalarda dondurma yapılır\n",
    "pretrained_base.trainable = False;\n",
    "\n",
    "model = tf.keras.Sequential([\n",
    "    pretrained_base,\n",
    "    tf.keras.layers.GlobalAveragePooling2D(),\n",
    "    tf.keras.layers.Dense(128, activation='softmax'),\n",
    "    tf.keras.layers.Dropout(0.3),\n",
    "    tf.keras.layers.Dense(4, activation='softmax')\n",
    "])\n",
    "model.summary()\n",
    "\n"
   ]
  },
  {
   "cell_type": "code",
   "execution_count": null,
   "metadata": {
    "colab": {
     "base_uri": "https://localhost:8080/"
    },
    "id": "GdZwO6xWCNzD",
    "outputId": "591febf7-6c8c-4b26-adea-026a68728b63"
   },
   "outputs": [
    {
     "name": "stdout",
     "output_type": "stream",
     "text": [
      "Epoch 1/5\n",
      "231/231 [==============================] - 340s 1s/step - loss: 1.3301 - accuracy: 0.3665 - val_loss: 1.3015 - val_accuracy: 0.3957\n",
      "Epoch 2/5\n",
      "231/231 [==============================] - 176s 723ms/step - loss: 1.2778 - accuracy: 0.4235 - val_loss: 1.2225 - val_accuracy: 0.5293\n",
      "Epoch 3/5\n",
      "231/231 [==============================] - 173s 722ms/step - loss: 1.2115 - accuracy: 0.4522 - val_loss: 1.1562 - val_accuracy: 0.5641\n",
      "Epoch 4/5\n",
      "231/231 [==============================] - 178s 731ms/step - loss: 1.1755 - accuracy: 0.4656 - val_loss: 1.1182 - val_accuracy: 0.5739\n",
      "Epoch 5/5\n",
      "231/231 [==============================] - 175s 742ms/step - loss: 1.1591 - accuracy: 0.4656 - val_loss: 1.0980 - val_accuracy: 0.5728\n"
     ]
    }
   ],
   "source": [
    "model.compile(\n",
    "    optimizer = tf.keras.optimizers.Adam(0.001),\n",
    "    loss='categorical_crossentropy',\n",
    "    metrics='accuracy'\n",
    ")\n",
    "\n",
    "history = model.fit(trainGen,\n",
    "                    epochs = 5, \n",
    "                    validation_data =valGen,\n",
    "                    workers = 8, # Eğitimimizi potansiyel olarak hızlandırmak için daha yüksek çalışan sayısı\n",
    "                    verbose = 1,\n",
    "                    )\n"
   ]
  },
  {
   "cell_type": "code",
   "execution_count": null,
   "metadata": {
    "colab": {
     "base_uri": "https://localhost:8080/",
     "height": 295
    },
    "id": "3vPQMPLUChDZ",
    "outputId": "2f7bc262-63a1-48f5-babf-69324d0bbb37"
   },
   "outputs": [
    {
     "data": {
      "image/png": "[encoded data removed]",
      "text/plain": [
       "<Figure size 432x288 with 1 Axes>"
      ]
     },
     "metadata": {
      "needs_background": "light"
     },
     "output_type": "display_data"
    }
   ],
   "source": [
    "import matplotlib\n",
    "import matplotlib.pyplot as plt\n",
    "\n",
    "plt.plot(history.history['loss'], 'r', label='Loss Training')\n",
    "plt.plot(history.history['val_loss'], 'b', label='Loss Validation')\n",
    "plt.title('Loss Training ve Validation')\n",
    "plt.ylabel('Loss')\n",
    "plt.xlabel('Epoch')\n",
    "plt.legend(loc=0)\n",
    "plt.show()"
   ]
  },
  {
   "cell_type": "markdown",
   "metadata": {
    "id": "x597gxQLkDxe"
   },
   "source": [
    "**2. eğitim denemesi**\n"
   ]
  },
  {
   "cell_type": "code",
   "execution_count": null,
   "metadata": {
    "colab": {
     "base_uri": "https://localhost:8080/"
    },
    "id": "JeZfdv3Qj422",
    "outputId": "b9679589-faf2-4e73-85cb-8ecc904d0b53"
   },
   "outputs": [
    {
     "name": "stdout",
     "output_type": "stream",
     "text": [
      "Model: \"sequential_1\"\n",
      "_________________________________________________________________\n",
      " Layer (type)                Output Shape              Param #   \n",
      "=================================================================\n",
      " efficientnetv2-m (Functiona  (None, 7, 7, 1280)       53150388  \n",
      " l)                                                              \n",
      "                                                                 \n",
      " global_average_pooling2d_1   (None, 1280)             0         \n",
      " (GlobalAveragePooling2D)                                        \n",
      "                                                                 \n",
      " dense_2 (Dense)             (None, 128)               163968    \n",
      "                                                                 \n",
      " dropout_1 (Dropout)         (None, 128)               0         \n",
      "                                                                 \n",
      " dense_3 (Dense)             (None, 4)                 516       \n",
      "                                                                 \n",
      "=================================================================\n",
      "Total params: 53,314,872\n",
      "Trainable params: 164,484\n",
      "Non-trainable params: 53,150,388\n",
      "_________________________________________________________________\n"
     ]
    }
   ],
   "source": [
    "pretrained_base = tf.keras.applications.EfficientNetV2M(\n",
    "    include_top = False,\n",
    "    input_shape = (224, 224, 3),\n",
    "    weights = \"imagenet\"\n",
    ")\n",
    "# Eğitilmiş noktalarda dondurma yapılır\n",
    "pretrained_base.trainable = False;\n",
    "\n",
    "model2 = tf.keras.Sequential([\n",
    "    pretrained_base,\n",
    "    tf.keras.layers.GlobalAveragePooling2D(),\n",
    "    tf.keras.layers.Dense(128, activation='softmax'),\n",
    "    tf.keras.layers.Dropout(0.3),\n",
    "    tf.keras.layers.Dense(4, activation='softmax')\n",
    "])\n",
    "model2.summary()"
   ]
  },
  {
   "cell_type": "code",
   "execution_count": null,
   "metadata": {
    "colab": {
     "base_uri": "https://localhost:8080/"
    },
    "id": "w_ZV3CQeipO4",
    "outputId": "81c1d5be-3936-4990-9c94-ab592dc95bc0"
   },
   "outputs": [
    {
     "name": "stdout",
     "output_type": "stream",
     "text": [
      "Epoch 1/15\n",
      "231/231 [==============================] - 175s 738ms/step - loss: 1.1450 - accuracy: 0.4741 - val_loss: 1.0752 - val_accuracy: 0.5837\n",
      "Epoch 2/15\n",
      "231/231 [==============================] - 172s 707ms/step - loss: 1.1270 - accuracy: 0.4925 - val_loss: 1.0659 - val_accuracy: 0.5815\n",
      "Epoch 3/15\n",
      "231/231 [==============================] - 168s 711ms/step - loss: 1.1125 - accuracy: 0.5000 - val_loss: 1.0537 - val_accuracy: 0.5804\n",
      "Epoch 4/15\n",
      "231/231 [==============================] - 173s 732ms/step - loss: 1.1043 - accuracy: 0.5033 - val_loss: 1.0354 - val_accuracy: 0.5783\n",
      "Epoch 5/15\n",
      "231/231 [==============================] - 175s 722ms/step - loss: 1.0976 - accuracy: 0.5090 - val_loss: 1.0258 - val_accuracy: 0.5826\n",
      "Epoch 6/15\n",
      "231/231 [==============================] - 175s 725ms/step - loss: 1.0931 - accuracy: 0.5174 - val_loss: 1.0228 - val_accuracy: 0.5837\n",
      "Epoch 7/15\n",
      "231/231 [==============================] - 174s 716ms/step - loss: 1.0787 - accuracy: 0.5276 - val_loss: 1.0127 - val_accuracy: 0.5859\n",
      "Epoch 8/15\n",
      "231/231 [==============================] - 168s 710ms/step - loss: 1.0792 - accuracy: 0.5269 - val_loss: 1.0003 - val_accuracy: 0.5859\n",
      "Epoch 9/15\n",
      "231/231 [==============================] - 173s 705ms/step - loss: 1.0644 - accuracy: 0.5342 - val_loss: 0.9938 - val_accuracy: 0.5967\n",
      "Epoch 10/15\n",
      "231/231 [==============================] - 172s 724ms/step - loss: 1.0688 - accuracy: 0.5421 - val_loss: 0.9867 - val_accuracy: 0.5870\n",
      "Epoch 11/15\n",
      "231/231 [==============================] - 174s 728ms/step - loss: 1.0601 - accuracy: 0.5413 - val_loss: 0.9804 - val_accuracy: 0.5978\n",
      "Epoch 12/15\n",
      "231/231 [==============================] - 176s 741ms/step - loss: 1.0592 - accuracy: 0.5437 - val_loss: 0.9755 - val_accuracy: 0.5978\n",
      "Epoch 13/15\n",
      "231/231 [==============================] - 176s 743ms/step - loss: 1.0549 - accuracy: 0.5403 - val_loss: 0.9771 - val_accuracy: 0.6022\n",
      "Epoch 14/15\n",
      "231/231 [==============================] - 179s 744ms/step - loss: 1.0456 - accuracy: 0.5508 - val_loss: 0.9771 - val_accuracy: 0.6011\n",
      "Epoch 15/15\n",
      "231/231 [==============================] - 175s 741ms/step - loss: 1.0414 - accuracy: 0.5608 - val_loss: 0.9625 - val_accuracy: 0.6065\n"
     ]
    }
   ],
   "source": [
    "model2.compile(\n",
    "    optimizer = tf.keras.optimizers.Adam(0.001),\n",
    "    loss='categorical_crossentropy',\n",
    "    metrics='accuracy'\n",
    ")\n",
    "\n",
    "history = model.fit(trainGen,\n",
    "                    epochs = 15, \n",
    "                    validation_data =valGen,\n",
    "                    workers = 8, # Eğitimimizi potansiyel olarak hızlandırmak için daha yüksek çalışan sayısı\n",
    "                    verbose = 1,\n",
    "                    )"
   ]
  },
  {
   "cell_type": "code",
   "execution_count": null,
   "metadata": {
    "id": "9a18GTYSu-cx"
   },
   "outputs": [],
   "source": [
    "pretrained_base.trainable = True\n",
    "\n",
    "# Katmanlarda dondurma yapıyoruz\n",
    "for layer in pretrained_base.layers[:-45]:\n",
    "    layer.trainable = False"
   ]
  },
  {
   "cell_type": "code",
   "execution_count": null,
   "metadata": {
    "id": "TEglQUzCz5Xw"
   },
   "outputs": [],
   "source": [
    "# modeli yeniden derliyoruz\n",
    "model2.compile(loss='binary_crossentropy',\n",
    "               optimizer='adam',\n",
    "               metrics=['accuracy'])"
   ]
  },
  {
   "cell_type": "code",
   "execution_count": null,
   "metadata": {
    "colab": {
     "base_uri": "https://localhost:8080/"
    },
    "id": "zfXi8vGDz7qO",
    "outputId": "679953ce-f398-4f59-a5c9-b8b1c2560536"
   },
   "outputs": [
    {
     "name": "stdout",
     "output_type": "stream",
     "text": [
      "Epoch 15/30\n",
      "231/231 [==============================] - 255s 1s/step - loss: 0.6100 - accuracy: 0.4961 - val_loss: 0.5632 - val_accuracy: 0.6207\n",
      "Epoch 16/30\n",
      "231/231 [==============================] - 226s 980ms/step - loss: 0.5444 - accuracy: 0.5481 - val_loss: 0.5273 - val_accuracy: 0.5685\n",
      "Epoch 17/30\n",
      "231/231 [==============================] - 216s 934ms/step - loss: 0.4960 - accuracy: 0.5856 - val_loss: 0.4620 - val_accuracy: 0.7054\n",
      "Epoch 18/30\n",
      "231/231 [==============================] - 214s 927ms/step - loss: 0.4700 - accuracy: 0.5843 - val_loss: 0.4515 - val_accuracy: 0.6543\n",
      "Epoch 19/30\n",
      "231/231 [==============================] - 213s 922ms/step - loss: 0.4481 - accuracy: 0.5990 - val_loss: 0.4191 - val_accuracy: 0.6978\n",
      "Epoch 20/30\n",
      "231/231 [==============================] - 213s 923ms/step - loss: 0.4337 - accuracy: 0.5979 - val_loss: 0.3957 - val_accuracy: 0.7174\n",
      "Epoch 21/30\n",
      "231/231 [==============================] - 215s 930ms/step - loss: 0.4205 - accuracy: 0.6010 - val_loss: 0.3876 - val_accuracy: 0.7163\n",
      "Epoch 22/30\n",
      "231/231 [==============================] - 215s 932ms/step - loss: 0.4108 - accuracy: 0.6156 - val_loss: 0.3751 - val_accuracy: 0.7217\n",
      "Epoch 23/30\n",
      "231/231 [==============================] - 214s 927ms/step - loss: 0.4011 - accuracy: 0.6187 - val_loss: 0.3583 - val_accuracy: 0.7348\n",
      "Epoch 24/30\n",
      "231/231 [==============================] - 215s 931ms/step - loss: 0.3945 - accuracy: 0.6247 - val_loss: 0.3597 - val_accuracy: 0.7228\n",
      "Epoch 25/30\n",
      "231/231 [==============================] - 214s 925ms/step - loss: 0.3851 - accuracy: 0.6575 - val_loss: 0.3531 - val_accuracy: 0.7326\n",
      "Epoch 26/30\n",
      "231/231 [==============================] - 211s 911ms/step - loss: 0.3761 - accuracy: 0.6714 - val_loss: 0.3332 - val_accuracy: 0.7478\n",
      "Epoch 27/30\n",
      "231/231 [==============================] - 209s 906ms/step - loss: 0.3668 - accuracy: 0.6748 - val_loss: 0.3359 - val_accuracy: 0.7565\n",
      "Epoch 28/30\n",
      "231/231 [==============================] - 208s 902ms/step - loss: 0.3569 - accuracy: 0.6934 - val_loss: 0.3296 - val_accuracy: 0.7478\n",
      "Epoch 29/30\n",
      "231/231 [==============================] - 208s 901ms/step - loss: 0.3511 - accuracy: 0.7017 - val_loss: 0.3203 - val_accuracy: 0.7739\n",
      "Epoch 30/30\n",
      "231/231 [==============================] - 210s 909ms/step - loss: 0.3435 - accuracy: 0.7075 - val_loss: 0.3117 - val_accuracy: 0.7696\n"
     ]
    }
   ],
   "source": [
    "history_model_2_fine_tune = model2.fit(trainGen, \n",
    "                                      epochs=30, \n",
    "                                      validation_data=valGen, \n",
    "                                      initial_epoch=14 \n",
    "                                      )"
   ]
  },
  {
   "cell_type": "code",
   "execution_count": null,
   "metadata": {
    "colab": {
     "base_uri": "https://localhost:8080/",
     "height": 295
    },
    "id": "uiPo0wWn0hld",
    "outputId": "188b045a-d755-462c-f38c-580e834ccd5c"
   },
   "outputs": [
    {
     "data": {
      "image/png": "[encoded data removed]",
      "text/plain": [
       "<Figure size 432x288 with 1 Axes>"
      ]
     },
     "metadata": {
      "needs_background": "light"
     },
     "output_type": "display_data"
    }
   ],
   "source": [
    "import matplotlib\n",
    "import matplotlib.pyplot as plt\n",
    "\n",
    "plt.plot(history.history['loss'], 'r', label='Loss Training')\n",
    "plt.plot(history.history['val_loss'], 'b', label='Loss Validation')\n",
    "plt.title('Loss Training ve Validation')\n",
    "plt.ylabel('Loss')\n",
    "plt.xlabel('Epoch')\n",
    "plt.axis([0,30,0,1.3])\n",
    "plt.legend(loc=0)\n",
    "plt.show()"
   ]
  },
  {
   "cell_type": "markdown",
   "metadata": {
    "id": "OXyALd_G1DcR"
   },
   "source": [
    "**model 3**"
   ]
  },
  {
   "cell_type": "code",
   "execution_count": null,
   "metadata": {
    "colab": {
     "base_uri": "https://localhost:8080/"
    },
    "id": "7Z7yeMZY02Gs",
    "outputId": "9435b29a-fccf-485f-84da-8d4f68ed4589"
   },
   "outputs": [
    {
     "name": "stdout",
     "output_type": "stream",
     "text": [
      "Downloading data from https://storage.googleapis.com/tensorflow/keras-applications/efficientnet_v2/efficientnetv2-m_notop.h5\n",
      "214204416/214201816 [==============================] - 1s 0us/step\n",
      "214212608/214201816 [==============================] - 1s 0us/step\n",
      "Model: \"sequential\"\n",
      "_________________________________________________________________\n",
      " Layer (type)                Output Shape              Param #   \n",
      "=================================================================\n",
      " efficientnetv2-m (Functiona  (None, 7, 7, 1280)       53150388  \n",
      " l)                                                              \n",
      "                                                                 \n",
      " global_average_pooling2d (G  (None, 1280)             0         \n",
      " lobalAveragePooling2D)                                          \n",
      "                                                                 \n",
      " dense (Dense)               (None, 128)               163968    \n",
      "                                                                 \n",
      " dropout (Dropout)           (None, 128)               0         \n",
      "                                                                 \n",
      " dense_1 (Dense)             (None, 4)                 516       \n",
      "                                                                 \n",
      "=================================================================\n",
      "Total params: 53,314,872\n",
      "Trainable params: 164,484\n",
      "Non-trainable params: 53,150,388\n",
      "_________________________________________________________________\n"
     ]
    }
   ],
   "source": [
    "pretrained_base = tf.keras.applications.EfficientNetV2M(\n",
    "    include_top = False,\n",
    "    input_shape = (224, 224, 3),\n",
    "    weights = \"imagenet\"\n",
    ")\n",
    "# Eğitilmiş noktalarda dondurma yapılır\n",
    "pretrained_base.trainable = False;\n",
    "\n",
    "model3 = tf.keras.Sequential([\n",
    "    pretrained_base,\n",
    "    tf.keras.layers.GlobalAveragePooling2D(),\n",
    "    tf.keras.layers.Dense(128, activation='sigmoid'),\n",
    "    tf.keras.layers.Dropout(0.25),\n",
    "    tf.keras.layers.Dense(4, activation='softmax')\n",
    "])\n",
    "model3.summary()"
   ]
  },
  {
   "cell_type": "code",
   "execution_count": null,
   "metadata": {
    "id": "-LcKjrLVuz44"
   },
   "outputs": [],
   "source": [
    "# Early Stopping çağrı noktası ayarlıyoruz categorical_crossentropy\n",
    "early_stopping = tf.keras.callbacks.EarlyStopping(monitor='sigmoid',\n",
    "                                                 patience=1)"
   ]
  },
  {
   "cell_type": "code",
   "execution_count": null,
   "metadata": {
    "colab": {
     "base_uri": "https://localhost:8080/"
    },
    "id": "X0Cn-1m-1Nbz",
    "outputId": "6c95b3f4-ccc1-4e71-b924-de9e319e2bbf"
   },
   "outputs": [
    {
     "name": "stdout",
     "output_type": "stream",
     "text": [
      "Epoch 1/10\n",
      "231/231 [==============================] - ETA: 0s - loss: 0.5345 - accuracy: 0.3992WARNING:tensorflow:Early stopping conditioned on metric `sigmoid` which is not available. Available metrics are: loss,accuracy,val_loss,val_accuracy\n",
      "231/231 [==============================] - 355s 1s/step - loss: 0.5345 - accuracy: 0.3992 - val_loss: 0.4958 - val_accuracy: 0.4696\n",
      "Epoch 2/10\n",
      "231/231 [==============================] - ETA: 0s - loss: 0.4885 - accuracy: 0.5030WARNING:tensorflow:Early stopping conditioned on metric `sigmoid` which is not available. Available metrics are: loss,accuracy,val_loss,val_accuracy\n",
      "231/231 [==============================] - 175s 739ms/step - loss: 0.4885 - accuracy: 0.5030 - val_loss: 0.4606 - val_accuracy: 0.5739\n",
      "Epoch 3/10\n",
      "231/231 [==============================] - ETA: 0s - loss: 0.4609 - accuracy: 0.5473WARNING:tensorflow:Early stopping conditioned on metric `sigmoid` which is not available. Available metrics are: loss,accuracy,val_loss,val_accuracy\n",
      "231/231 [==============================] - 173s 734ms/step - loss: 0.4609 - accuracy: 0.5473 - val_loss: 0.4378 - val_accuracy: 0.5793\n",
      "Epoch 4/10\n",
      "231/231 [==============================] - ETA: 0s - loss: 0.4404 - accuracy: 0.5716WARNING:tensorflow:Early stopping conditioned on metric `sigmoid` which is not available. Available metrics are: loss,accuracy,val_loss,val_accuracy\n",
      "231/231 [==============================] - 179s 722ms/step - loss: 0.4404 - accuracy: 0.5716 - val_loss: 0.4221 - val_accuracy: 0.6043\n",
      "Epoch 5/10\n",
      "231/231 [==============================] - ETA: 0s - loss: 0.4297 - accuracy: 0.5864WARNING:tensorflow:Early stopping conditioned on metric `sigmoid` which is not available. Available metrics are: loss,accuracy,val_loss,val_accuracy\n",
      "231/231 [==============================] - 179s 739ms/step - loss: 0.4297 - accuracy: 0.5864 - val_loss: 0.4131 - val_accuracy: 0.5913\n",
      "Epoch 6/10\n",
      "231/231 [==============================] - ETA: 0s - loss: 0.4218 - accuracy: 0.5944WARNING:tensorflow:Early stopping conditioned on metric `sigmoid` which is not available. Available metrics are: loss,accuracy,val_loss,val_accuracy\n",
      "231/231 [==============================] - 175s 733ms/step - loss: 0.4218 - accuracy: 0.5944 - val_loss: 0.4076 - val_accuracy: 0.6261\n",
      "Epoch 7/10\n",
      "231/231 [==============================] - ETA: 0s - loss: 0.4164 - accuracy: 0.5970WARNING:tensorflow:Early stopping conditioned on metric `sigmoid` which is not available. Available metrics are: loss,accuracy,val_loss,val_accuracy\n",
      "231/231 [==============================] - 174s 740ms/step - loss: 0.4164 - accuracy: 0.5970 - val_loss: 0.4005 - val_accuracy: 0.6228\n",
      "Epoch 8/10\n",
      "231/231 [==============================] - ETA: 0s - loss: 0.4089 - accuracy: 0.6160WARNING:tensorflow:Early stopping conditioned on metric `sigmoid` which is not available. Available metrics are: loss,accuracy,val_loss,val_accuracy\n",
      "231/231 [==============================] - 174s 720ms/step - loss: 0.4089 - accuracy: 0.6160 - val_loss: 0.3956 - val_accuracy: 0.6424\n",
      "Epoch 9/10\n",
      "231/231 [==============================] - ETA: 0s - loss: 0.4048 - accuracy: 0.6175WARNING:tensorflow:Early stopping conditioned on metric `sigmoid` which is not available. Available metrics are: loss,accuracy,val_loss,val_accuracy\n",
      "231/231 [==============================] - 171s 721ms/step - loss: 0.4048 - accuracy: 0.6175 - val_loss: 0.3913 - val_accuracy: 0.6326\n",
      "Epoch 10/10\n",
      "231/231 [==============================] - ETA: 0s - loss: 0.4011 - accuracy: 0.6249WARNING:tensorflow:Early stopping conditioned on metric `sigmoid` which is not available. Available metrics are: loss,accuracy,val_loss,val_accuracy\n",
      "231/231 [==============================] - 176s 732ms/step - loss: 0.4011 - accuracy: 0.6249 - val_loss: 0.3871 - val_accuracy: 0.6457\n"
     ]
    }
   ],
   "source": [
    "model3.compile(\n",
    "    optimizer = tf.keras.optimizers.Adam(0.001),\n",
    "    loss='binary_crossentropy',\n",
    "    metrics='accuracy'\n",
    ")\n",
    "\n",
    "history = model3.fit(trainGen,\n",
    "                    epochs = 10, \n",
    "                    validation_data =valGen,\n",
    "                    workers = 8, # Eğitimimizi potansiyel olarak hızlandırmak için daha yüksek çalışan sayısı\n",
    "                    verbose = 1, callbacks=[early_stopping]\n",
    "                    )"
   ]
  },
  {
   "cell_type": "code",
   "execution_count": null,
   "metadata": {
    "colab": {
     "base_uri": "https://localhost:8080/",
     "height": 295
    },
    "id": "k5wx_t5HYE8u",
    "outputId": "89d1e5a2-e5af-477c-f740-87078c0c2ce5"
   },
   "outputs": [
    {
     "data": {
      "image/png": "[encoded data removed]",
      "text/plain": [
       "<Figure size 432x288 with 1 Axes>"
      ]
     },
     "metadata": {
      "needs_background": "light"
     },
     "output_type": "display_data"
    }
   ],
   "source": [
    "import matplotlib\n",
    "import matplotlib.pyplot as plt\n",
    "\n",
    "plt.plot(history.history['loss'], 'r', label='Loss Training')\n",
    "plt.plot(history.history['val_loss'], 'b', label='Loss Validation')\n",
    "plt.title('Loss Training ve Validation')\n",
    "plt.ylabel('Loss')\n",
    "plt.xlabel('Epoch')\n",
    "plt.axis([0,30,0,1.3])\n",
    "plt.legend(loc=0)\n",
    "plt.show()"
   ]
  },
  {
   "cell_type": "code",
   "execution_count": null,
   "metadata": {
    "id": "TR5AlBfN1cAD"
   },
   "outputs": [],
   "source": [
    "pretrained_base.trainable = True\n",
    "\n",
    "# Katmanlarda dondurma yapıyoruz\n",
    "for layer in pretrained_base.layers[:-35]:\n",
    "    layer.trainable = False"
   ]
  },
  {
   "cell_type": "code",
   "execution_count": null,
   "metadata": {
    "id": "kLdmK5-XY6Em"
   },
   "outputs": [],
   "source": [
    "# modeli yeniden derliyoruz\n",
    "model3.compile(loss='binary_crossentropy',\n",
    "               optimizer='adam',\n",
    "               metrics=['accuracy'])"
   ]
  },
  {
   "cell_type": "code",
   "execution_count": null,
   "metadata": {
    "colab": {
     "base_uri": "https://localhost:8080/"
    },
    "id": "OH22uYVH2HHE",
    "outputId": "3d4403ec-54c6-4a84-dc91-f7df8f96313c"
   },
   "outputs": [
    {
     "name": "stdout",
     "output_type": "stream",
     "text": [
      "Epoch 10/25\n",
      "231/231 [==============================] - 238s 958ms/step - loss: 0.3998 - accuracy: 0.6573 - val_loss: 0.3657 - val_accuracy: 0.6957\n",
      "Epoch 11/25\n",
      "231/231 [==============================] - 218s 943ms/step - loss: 0.3220 - accuracy: 0.7091 - val_loss: 0.2871 - val_accuracy: 0.7598\n",
      "Epoch 12/25\n",
      "231/231 [==============================] - 218s 945ms/step - loss: 0.2961 - accuracy: 0.7389 - val_loss: 0.2802 - val_accuracy: 0.7609\n",
      "Epoch 13/25\n",
      "231/231 [==============================] - 219s 948ms/step - loss: 0.2787 - accuracy: 0.7515 - val_loss: 0.3038 - val_accuracy: 0.6717\n",
      "Epoch 14/25\n",
      "231/231 [==============================] - 219s 947ms/step - loss: 0.2677 - accuracy: 0.7590 - val_loss: 0.4875 - val_accuracy: 0.6228\n",
      "Epoch 15/25\n",
      "231/231 [==============================] - 218s 944ms/step - loss: 0.2638 - accuracy: 0.7629 - val_loss: 0.3849 - val_accuracy: 0.6413\n",
      "Epoch 16/25\n",
      "231/231 [==============================] - 216s 936ms/step - loss: 0.2521 - accuracy: 0.7825 - val_loss: 0.2874 - val_accuracy: 0.7304\n",
      "Epoch 17/25\n",
      "231/231 [==============================] - 217s 940ms/step - loss: 0.2467 - accuracy: 0.7776 - val_loss: 0.2491 - val_accuracy: 0.7837\n",
      "Epoch 18/25\n",
      "231/231 [==============================] - 217s 940ms/step - loss: 0.2412 - accuracy: 0.7837 - val_loss: 0.2593 - val_accuracy: 0.7707\n",
      "Epoch 19/25\n",
      "231/231 [==============================] - 215s 931ms/step - loss: 0.2356 - accuracy: 0.7940 - val_loss: 0.3019 - val_accuracy: 0.7630\n",
      "Epoch 20/25\n",
      "231/231 [==============================] - 220s 950ms/step - loss: 0.2332 - accuracy: 0.7937 - val_loss: 0.2893 - val_accuracy: 0.7467\n",
      "Epoch 21/25\n",
      "231/231 [==============================] - 221s 956ms/step - loss: 0.2298 - accuracy: 0.8007 - val_loss: 0.2802 - val_accuracy: 0.7630\n",
      "Epoch 22/25\n",
      "231/231 [==============================] - 223s 967ms/step - loss: 0.2227 - accuracy: 0.8062 - val_loss: 0.4216 - val_accuracy: 0.7185\n",
      "Epoch 23/25\n",
      "231/231 [==============================] - 221s 957ms/step - loss: 0.2243 - accuracy: 0.8030 - val_loss: 0.2841 - val_accuracy: 0.7543\n",
      "Epoch 24/25\n",
      "231/231 [==============================] - 221s 957ms/step - loss: 0.2206 - accuracy: 0.8068 - val_loss: 0.2490 - val_accuracy: 0.7837\n",
      "Epoch 25/25\n",
      "231/231 [==============================] - 218s 944ms/step - loss: 0.2110 - accuracy: 0.8149 - val_loss: 0.2906 - val_accuracy: 0.7576\n"
     ]
    }
   ],
   "source": [
    "history_model_3_fine_tune = model3.fit(trainGen, \n",
    "                                      epochs=25, \n",
    "                                      validation_data=valGen, \n",
    "                                      initial_epoch=9\n",
    "                                      )"
   ]
  },
  {
   "cell_type": "code",
   "execution_count": null,
   "metadata": {
    "colab": {
     "base_uri": "https://localhost:8080/",
     "height": 295
    },
    "id": "jAxDF9iiX1xj",
    "outputId": "5100db57-b275-47c3-f1b7-89697440ab59"
   },
   "outputs": [
    {
     "data": {
      "image/png": "[encoded data removed]",
      "text/plain": [
       "<Figure size 432x288 with 1 Axes>"
      ]
     },
     "metadata": {
      "needs_background": "light"
     },
     "output_type": "display_data"
    }
   ],
   "source": [
    "import matplotlib\n",
    "import matplotlib.pyplot as plt1\n",
    "plt1.plot(history_model_3_fine_tune.history['loss'], 'r', label='Loss Training')\n",
    "plt1.plot(history_model_3_fine_tune.history['val_loss'], 'b', label='Loss Validation')\n",
    "plt1.title('Loss Training ve Validation')\n",
    "plt1.ylabel('Loss')\n",
    "plt1.xlabel('Epoch')\n",
    "plt1.axis([0,30,0,1.3])\n",
    "plt1.legend(loc=1)\n",
    "plt1.show()"
   ]
  },
  {
   "cell_type": "code",
   "execution_count": null,
   "metadata": {
    "colab": {
     "base_uri": "https://localhost:8080/",
     "height": 296
    },
    "id": "UTGHRnXdpRqT",
    "outputId": "4d831ae6-bcf4-428e-f428-2a36820245ec"
   },
   "outputs": [
    {
     "data": {
      "image/png": "[encoded data removed]",
      "text/plain": [
       "<Figure size 432x288 with 1 Axes>"
      ]
     },
     "metadata": {
      "needs_background": "light"
     },
     "output_type": "display_data"
    }
   ],
   "source": [
    "import matplotlib\n",
    "import matplotlib.pyplot as plt1\n",
    "plt1.plot(history_model_3_fine_tune.history['accuracy'], 'r', label='Loss Training')\n",
    "plt1.plot(history_model_3_fine_tune.history['val_accuracy'], 'b', label='Loss Validation')\n",
    "plt1.title('Accuracy Training ve Validation')\n",
    "plt1.ylabel('accuracy')\n",
    "plt1.xlabel('val_accuracy')\n",
    "plt1.axis([0,30,0,1.3])\n",
    "plt1.legend(loc=1)\n",
    "plt1.show()"
   ]
  },
  {
   "cell_type": "markdown",
   "metadata": {
    "id": "gcQ6OhbVpf1J"
   },
   "source": [
    "**MODEL 4 **"
   ]
  },
  {
   "cell_type": "code",
   "execution_count": 6,
   "metadata": {
    "colab": {
     "base_uri": "https://localhost:8080/"
    },
    "id": "mYu0jH2Rpjop",
    "outputId": "f262e0e8-c600-47ab-b632-09547c3b0ae9"
   },
   "outputs": [
    {
     "name": "stdout",
     "output_type": "stream",
     "text": [
      "Downloading data from https://storage.googleapis.com/tensorflow/keras-applications/efficientnet_v2/efficientnetv2-m_notop.h5\n",
      "214204416/214201816 [==============================] - 1s 0us/step\n",
      "214212608/214201816 [==============================] - 1s 0us/step\n",
      "Model: \"sequential\"\n",
      "_________________________________________________________________\n",
      " Layer (type)                Output Shape              Param #   \n",
      "=================================================================\n",
      " efficientnetv2-m (Functiona  (None, 7, 7, 1280)       53150388  \n",
      " l)                                                              \n",
      "                                                                 \n",
      " global_average_pooling2d (G  (None, 1280)             0         \n",
      " lobalAveragePooling2D)                                          \n",
      "                                                                 \n",
      " dense (Dense)               (None, 128)               163968    \n",
      "                                                                 \n",
      " dropout (Dropout)           (None, 128)               0         \n",
      "                                                                 \n",
      " dense_1 (Dense)             (None, 4)                 516       \n",
      "                                                                 \n",
      "=================================================================\n",
      "Total params: 53,314,872\n",
      "Trainable params: 164,484\n",
      "Non-trainable params: 53,150,388\n",
      "_________________________________________________________________\n"
     ]
    }
   ],
   "source": [
    "pretrained_base = tf.keras.applications.EfficientNetV2M(\n",
    "    include_top = False,\n",
    "    input_shape = (224, 224, 3),\n",
    "    weights = \"imagenet\"\n",
    ")\n",
    "# Eğitilmiş noktalarda dondurma yapılır\n",
    "pretrained_base.trainable = False;\n",
    "\n",
    "model4 = tf.keras.Sequential([\n",
    "    pretrained_base,\n",
    "    tf.keras.layers.GlobalAveragePooling2D(),\n",
    "    tf.keras.layers.Dense(128, activation='sigmoid'),\n",
    "    tf.keras.layers.Dropout(0.25),\n",
    "    tf.keras.layers.Dense(4, activation='softmax')\n",
    "])\n",
    "model4.summary()"
   ]
  },
  {
   "cell_type": "code",
   "execution_count": 7,
   "metadata": {
    "id": "HXA0vw3cpurO"
   },
   "outputs": [],
   "source": [
    "# Early Stopping çağrı noktası ayarlıyoruz categorical_crossentropy\n",
    "early_stopping1 = tf.keras.callbacks.EarlyStopping(monitor='accuary',\n",
    "                                                 patience=1)"
   ]
  },
  {
   "cell_type": "code",
   "execution_count": 8,
   "metadata": {
    "colab": {
     "base_uri": "https://localhost:8080/"
    },
    "id": "XlxkzMh0pxwm",
    "outputId": "52462c07-c1ff-4c4e-815f-2ba1e849e238"
   },
   "outputs": [
    {
     "name": "stdout",
     "output_type": "stream",
     "text": [
      "Epoch 1/30\n",
      "231/231 [==============================] - ETA: 0s - loss: 0.5348 - accuracy: 0.4078WARNING:tensorflow:Early stopping conditioned on metric `accuary` which is not available. Available metrics are: loss,accuracy,val_loss,val_accuracy\n",
      "231/231 [==============================] - 310s 1s/step - loss: 0.5348 - accuracy: 0.4078 - val_loss: 0.4928 - val_accuracy: 0.5413\n",
      "Epoch 2/30\n",
      "231/231 [==============================] - ETA: 0s - loss: 0.4915 - accuracy: 0.4906WARNING:tensorflow:Early stopping conditioned on metric `accuary` which is not available. Available metrics are: loss,accuracy,val_loss,val_accuracy\n",
      "231/231 [==============================] - 172s 730ms/step - loss: 0.4915 - accuracy: 0.4906 - val_loss: 0.4659 - val_accuracy: 0.5185\n",
      "Epoch 3/30\n",
      "231/231 [==============================] - ETA: 0s - loss: 0.4606 - accuracy: 0.5406WARNING:tensorflow:Early stopping conditioned on metric `accuary` which is not available. Available metrics are: loss,accuracy,val_loss,val_accuracy\n",
      "231/231 [==============================] - 172s 732ms/step - loss: 0.4606 - accuracy: 0.5406 - val_loss: 0.4368 - val_accuracy: 0.5717\n",
      "Epoch 4/30\n",
      "231/231 [==============================] - ETA: 0s - loss: 0.4432 - accuracy: 0.5607WARNING:tensorflow:Early stopping conditioned on metric `accuary` which is not available. Available metrics are: loss,accuracy,val_loss,val_accuracy\n",
      "231/231 [==============================] - 177s 724ms/step - loss: 0.4432 - accuracy: 0.5607 - val_loss: 0.4212 - val_accuracy: 0.5848\n",
      "Epoch 5/30\n",
      "231/231 [==============================] - ETA: 0s - loss: 0.4311 - accuracy: 0.5813WARNING:tensorflow:Early stopping conditioned on metric `accuary` which is not available. Available metrics are: loss,accuracy,val_loss,val_accuracy\n",
      "231/231 [==============================] - 172s 726ms/step - loss: 0.4311 - accuracy: 0.5813 - val_loss: 0.4120 - val_accuracy: 0.6141\n",
      "Epoch 6/30\n",
      "231/231 [==============================] - ETA: 0s - loss: 0.4217 - accuracy: 0.5899WARNING:tensorflow:Early stopping conditioned on metric `accuary` which is not available. Available metrics are: loss,accuracy,val_loss,val_accuracy\n",
      "231/231 [==============================] - 174s 722ms/step - loss: 0.4217 - accuracy: 0.5899 - val_loss: 0.4096 - val_accuracy: 0.5978\n",
      "Epoch 7/30\n",
      "231/231 [==============================] - ETA: 0s - loss: 0.4151 - accuracy: 0.6024WARNING:tensorflow:Early stopping conditioned on metric `accuary` which is not available. Available metrics are: loss,accuracy,val_loss,val_accuracy\n",
      "231/231 [==============================] - 174s 733ms/step - loss: 0.4151 - accuracy: 0.6024 - val_loss: 0.4000 - val_accuracy: 0.6337\n",
      "Epoch 8/30\n",
      "231/231 [==============================] - ETA: 0s - loss: 0.4106 - accuracy: 0.6135WARNING:tensorflow:Early stopping conditioned on metric `accuary` which is not available. Available metrics are: loss,accuracy,val_loss,val_accuracy\n",
      "231/231 [==============================] - 178s 735ms/step - loss: 0.4106 - accuracy: 0.6135 - val_loss: 0.3955 - val_accuracy: 0.6315\n",
      "Epoch 9/30\n",
      "231/231 [==============================] - ETA: 0s - loss: 0.4053 - accuracy: 0.6196WARNING:tensorflow:Early stopping conditioned on metric `accuary` which is not available. Available metrics are: loss,accuracy,val_loss,val_accuracy\n",
      "231/231 [==============================] - 174s 737ms/step - loss: 0.4053 - accuracy: 0.6196 - val_loss: 0.3916 - val_accuracy: 0.6478\n",
      "Epoch 10/30\n",
      "231/231 [==============================] - ETA: 0s - loss: 0.4028 - accuracy: 0.6203WARNING:tensorflow:Early stopping conditioned on metric `accuary` which is not available. Available metrics are: loss,accuracy,val_loss,val_accuracy\n",
      "231/231 [==============================] - 177s 738ms/step - loss: 0.4028 - accuracy: 0.6203 - val_loss: 0.3875 - val_accuracy: 0.6457\n",
      "Epoch 11/30\n",
      "231/231 [==============================] - ETA: 0s - loss: 0.3979 - accuracy: 0.6271WARNING:tensorflow:Early stopping conditioned on metric `accuary` which is not available. Available metrics are: loss,accuracy,val_loss,val_accuracy\n",
      "231/231 [==============================] - 175s 720ms/step - loss: 0.3979 - accuracy: 0.6271 - val_loss: 0.3854 - val_accuracy: 0.6413\n",
      "Epoch 12/30\n",
      "231/231 [==============================] - ETA: 0s - loss: 0.3953 - accuracy: 0.6263WARNING:tensorflow:Early stopping conditioned on metric `accuary` which is not available. Available metrics are: loss,accuracy,val_loss,val_accuracy\n",
      "231/231 [==============================] - 175s 728ms/step - loss: 0.3953 - accuracy: 0.6263 - val_loss: 0.3867 - val_accuracy: 0.6272\n",
      "Epoch 13/30\n",
      "231/231 [==============================] - ETA: 0s - loss: 0.3932 - accuracy: 0.6295WARNING:tensorflow:Early stopping conditioned on metric `accuary` which is not available. Available metrics are: loss,accuracy,val_loss,val_accuracy\n",
      "231/231 [==============================] - 171s 728ms/step - loss: 0.3932 - accuracy: 0.6295 - val_loss: 0.3802 - val_accuracy: 0.6489\n",
      "Epoch 14/30\n",
      "231/231 [==============================] - ETA: 0s - loss: 0.3913 - accuracy: 0.6361WARNING:tensorflow:Early stopping conditioned on metric `accuary` which is not available. Available metrics are: loss,accuracy,val_loss,val_accuracy\n",
      "231/231 [==============================] - 170s 726ms/step - loss: 0.3913 - accuracy: 0.6361 - val_loss: 0.3800 - val_accuracy: 0.6478\n",
      "Epoch 15/30\n",
      "231/231 [==============================] - ETA: 0s - loss: 0.3893 - accuracy: 0.6385WARNING:tensorflow:Early stopping conditioned on metric `accuary` which is not available. Available metrics are: loss,accuracy,val_loss,val_accuracy\n",
      "231/231 [==============================] - 174s 718ms/step - loss: 0.3893 - accuracy: 0.6385 - val_loss: 0.3767 - val_accuracy: 0.6489\n",
      "Epoch 16/30\n",
      "231/231 [==============================] - ETA: 0s - loss: 0.3829 - accuracy: 0.6491WARNING:tensorflow:Early stopping conditioned on metric `accuary` which is not available. Available metrics are: loss,accuracy,val_loss,val_accuracy\n",
      "231/231 [==============================] - 175s 719ms/step - loss: 0.3829 - accuracy: 0.6491 - val_loss: 0.3737 - val_accuracy: 0.6587\n",
      "Epoch 17/30\n",
      "231/231 [==============================] - ETA: 0s - loss: 0.3831 - accuracy: 0.6533WARNING:tensorflow:Early stopping conditioned on metric `accuary` which is not available. Available metrics are: loss,accuracy,val_loss,val_accuracy\n",
      "231/231 [==============================] - 175s 725ms/step - loss: 0.3831 - accuracy: 0.6533 - val_loss: 0.3719 - val_accuracy: 0.6533\n",
      "Epoch 18/30\n",
      "231/231 [==============================] - ETA: 0s - loss: 0.3807 - accuracy: 0.6529WARNING:tensorflow:Early stopping conditioned on metric `accuary` which is not available. Available metrics are: loss,accuracy,val_loss,val_accuracy\n",
      "231/231 [==============================] - 179s 737ms/step - loss: 0.3807 - accuracy: 0.6529 - val_loss: 0.3687 - val_accuracy: 0.6630\n",
      "Epoch 19/30\n",
      "231/231 [==============================] - ETA: 0s - loss: 0.3799 - accuracy: 0.6509WARNING:tensorflow:Early stopping conditioned on metric `accuary` which is not available. Available metrics are: loss,accuracy,val_loss,val_accuracy\n",
      "231/231 [==============================] - 180s 740ms/step - loss: 0.3799 - accuracy: 0.6509 - val_loss: 0.3693 - val_accuracy: 0.6793\n",
      "Epoch 20/30\n",
      "231/231 [==============================] - ETA: 0s - loss: 0.3782 - accuracy: 0.6528WARNING:tensorflow:Early stopping conditioned on metric `accuary` which is not available. Available metrics are: loss,accuracy,val_loss,val_accuracy\n",
      "231/231 [==============================] - 178s 731ms/step - loss: 0.3782 - accuracy: 0.6528 - val_loss: 0.3763 - val_accuracy: 0.6446\n",
      "Epoch 21/30\n",
      "231/231 [==============================] - ETA: 0s - loss: 0.3771 - accuracy: 0.6577WARNING:tensorflow:Early stopping conditioned on metric `accuary` which is not available. Available metrics are: loss,accuracy,val_loss,val_accuracy\n",
      "231/231 [==============================] - 179s 743ms/step - loss: 0.3771 - accuracy: 0.6577 - val_loss: 0.3698 - val_accuracy: 0.6761\n",
      "Epoch 22/30\n",
      "231/231 [==============================] - ETA: 0s - loss: 0.3748 - accuracy: 0.6600WARNING:tensorflow:Early stopping conditioned on metric `accuary` which is not available. Available metrics are: loss,accuracy,val_loss,val_accuracy\n",
      "231/231 [==============================] - 172s 727ms/step - loss: 0.3748 - accuracy: 0.6600 - val_loss: 0.3623 - val_accuracy: 0.6761\n",
      "Epoch 23/30\n",
      "231/231 [==============================] - ETA: 0s - loss: 0.3733 - accuracy: 0.6578WARNING:tensorflow:Early stopping conditioned on metric `accuary` which is not available. Available metrics are: loss,accuracy,val_loss,val_accuracy\n",
      "231/231 [==============================] - 171s 721ms/step - loss: 0.3733 - accuracy: 0.6578 - val_loss: 0.3624 - val_accuracy: 0.6772\n",
      "Epoch 24/30\n",
      "231/231 [==============================] - ETA: 0s - loss: 0.3741 - accuracy: 0.6552WARNING:tensorflow:Early stopping conditioned on metric `accuary` which is not available. Available metrics are: loss,accuracy,val_loss,val_accuracy\n",
      "231/231 [==============================] - 171s 723ms/step - loss: 0.3741 - accuracy: 0.6552 - val_loss: 0.3653 - val_accuracy: 0.6837\n",
      "Epoch 25/30\n",
      "231/231 [==============================] - ETA: 0s - loss: 0.3700 - accuracy: 0.6623WARNING:tensorflow:Early stopping conditioned on metric `accuary` which is not available. Available metrics are: loss,accuracy,val_loss,val_accuracy\n",
      "231/231 [==============================] - 172s 727ms/step - loss: 0.3700 - accuracy: 0.6623 - val_loss: 0.3586 - val_accuracy: 0.6815\n",
      "Epoch 26/30\n",
      "231/231 [==============================] - ETA: 0s - loss: 0.3688 - accuracy: 0.6623WARNING:tensorflow:Early stopping conditioned on metric `accuary` which is not available. Available metrics are: loss,accuracy,val_loss,val_accuracy\n",
      "231/231 [==============================] - 179s 735ms/step - loss: 0.3688 - accuracy: 0.6623 - val_loss: 0.3604 - val_accuracy: 0.6815\n",
      "Epoch 27/30\n",
      "231/231 [==============================] - ETA: 0s - loss: 0.3695 - accuracy: 0.6623WARNING:tensorflow:Early stopping conditioned on metric `accuary` which is not available. Available metrics are: loss,accuracy,val_loss,val_accuracy\n",
      "231/231 [==============================] - 177s 729ms/step - loss: 0.3695 - accuracy: 0.6623 - val_loss: 0.3574 - val_accuracy: 0.6826\n",
      "Epoch 28/30\n",
      "231/231 [==============================] - ETA: 0s - loss: 0.3687 - accuracy: 0.6666WARNING:tensorflow:Early stopping conditioned on metric `accuary` which is not available. Available metrics are: loss,accuracy,val_loss,val_accuracy\n",
      "231/231 [==============================] - 178s 732ms/step - loss: 0.3687 - accuracy: 0.6666 - val_loss: 0.3596 - val_accuracy: 0.6891\n",
      "Epoch 29/30\n",
      "231/231 [==============================] - ETA: 0s - loss: 0.3661 - accuracy: 0.6661WARNING:tensorflow:Early stopping conditioned on metric `accuary` which is not available. Available metrics are: loss,accuracy,val_loss,val_accuracy\n",
      "231/231 [==============================] - 177s 721ms/step - loss: 0.3661 - accuracy: 0.6661 - val_loss: 0.3590 - val_accuracy: 0.6913\n",
      "Epoch 30/30\n",
      "231/231 [==============================] - ETA: 0s - loss: 0.3634 - accuracy: 0.6708WARNING:tensorflow:Early stopping conditioned on metric `accuary` which is not available. Available metrics are: loss,accuracy,val_loss,val_accuracy\n",
      "231/231 [==============================] - 173s 721ms/step - loss: 0.3634 - accuracy: 0.6708 - val_loss: 0.3549 - val_accuracy: 0.6793\n"
     ]
    }
   ],
   "source": [
    "model4.compile(\n",
    "    optimizer = tf.keras.optimizers.Adam(0.001),\n",
    "    loss='binary_crossentropy',\n",
    "    metrics='accuracy'\n",
    ")\n",
    "\n",
    "history = model4.fit(trainGen,\n",
    "                    epochs = 30, \n",
    "                    validation_data =valGen,\n",
    "                    workers = 8, # Eğitimimizi potansiyel olarak hızlandırmak için daha yüksek çalışan sayısı\n",
    "                    verbose = 1, callbacks=[early_stopping1]\n",
    "                    )"
   ]
  },
  {
   "cell_type": "code",
   "execution_count": 10,
   "metadata": {
    "colab": {
     "base_uri": "https://localhost:8080/",
     "height": 574
    },
    "id": "R07mjgfDqJyr",
    "outputId": "98d9313d-d3e0-4f40-b6a6-d06679c56e5f"
   },
   "outputs": [
    {
     "data": {
      "image/png": "[encoded data removed]",
      "text/plain": [
       "<Figure size 432x288 with 1 Axes>"
      ]
     },
     "metadata": {
      "needs_background": "light"
     },
     "output_type": "display_data"
    },
    {
     "data": {
      "image/png": "[encoded data removed]",
      "text/plain": [
       "<Figure size 432x288 with 1 Axes>"
      ]
     },
     "metadata": {
      "needs_background": "light"
     },
     "output_type": "display_data"
    }
   ],
   "source": [
    "import matplotlib\n",
    "import matplotlib.pyplot as plt\n",
    "\n",
    "plt.plot(history.history['loss'], 'r', label='Loss Training')\n",
    "plt.plot(history.history['val_loss'], 'b', label='Loss Validation')\n",
    "plt.title('Loss Training ve Validation')\n",
    "plt.ylabel('Loss')\n",
    "plt.xlabel('Epoch')\n",
    "plt.axis([0,50,0,1.3])\n",
    "plt.legend(loc=0)\n",
    "plt.show()\n",
    "\n",
    "plt.plot(history.history['accuracy'], 'r', label='Loss Training')\n",
    "plt.plot(history.history['val_accuracy'], 'b', label='Loss Validation')\n",
    "plt.title('Accuracy Training ve Validation')\n",
    "plt.ylabel('accuracy')\n",
    "plt.xlabel('val_accuracy')\n",
    "plt.axis([0,50,0,1.3])\n",
    "plt.legend(loc=1)\n",
    "plt.show()\n"
   ]
  },
  {
   "cell_type": "code",
   "execution_count": 54,
   "metadata": {
    "colab": {
     "base_uri": "https://localhost:8080/"
    },
    "id": "aRfF1qvQ7VFF",
    "outputId": "93a055aa-0ccb-4083-e4d8-0f8bc48dbf21"
   },
   "outputs": [
    {
     "name": "stdout",
     "output_type": "stream",
     "text": [
      "              precision    recall  f1-score   support\n",
      "\n",
      "     class_0       0.90      0.75      0.82        12\n",
      "     class_1       0.87      0.87      0.87        23\n",
      "     class_2       0.90      1.00      0.95        19\n",
      "\n",
      "    accuracy                           0.89        54\n",
      "   macro avg       0.89      0.87      0.88        54\n",
      "weighted avg       0.89      0.89      0.89        54\n",
      "\n",
      "[[ 9  3  0]\n",
      " [ 1 20  2]\n",
      " [ 0  0 19]]\n"
     ]
    }
   ],
   "source": [
    "    from sklearn import datasets\n",
    "    from sklearn.tree import DecisionTreeClassifier\n",
    "    from sklearn.model_selection import train_test_split\n",
    "    from sklearn.metrics import classification_report, confusion_matrix\n",
    "    wine = datasets.load_wine()\n",
    "    X = wine.data\n",
    "    y = wine.target\n",
    "    class_names = wine.target_names\n",
    "    X_train, X_test, y_train, y_test = train_test_split(X, y, test_size=0.30)\n",
    "    classifier_tree = DecisionTreeClassifier()\n",
    "    y_predict = classifier_tree.fit(X_train, y_train).predict(X_test)\n",
    "    print(classification_report(y_test, y_predict, target_names=class_names))\n",
    "    print(confusion_matrix(y_test, y_predict))"
   ]
  },
  {
   "cell_type": "code",
   "execution_count": 11,
   "metadata": {
    "id": "TO6nqduWqU3v"
   },
   "outputs": [],
   "source": [
    "pretrained_base.trainable = True\n",
    "\n",
    "# Katmanlarda dondurma yapıyoruz\n",
    "for layer in pretrained_base.layers[:-75]:\n",
    "    layer.trainable = False"
   ]
  },
  {
   "cell_type": "code",
   "execution_count": 12,
   "metadata": {
    "id": "l4xPigbgqdhH"
   },
   "outputs": [],
   "source": [
    "# modeli yeniden derliyoruz\n",
    "model4.compile(loss='binary_crossentropy',\n",
    "               optimizer='adam',\n",
    "               metrics=['accuracy'])"
   ]
  },
  {
   "cell_type": "code",
   "execution_count": 13,
   "metadata": {
    "colab": {
     "base_uri": "https://localhost:8080/"
    },
    "id": "xLNpOQj1qkvT",
    "outputId": "41c0152c-40ef-47fa-85f9-bb625f16d303"
   },
   "outputs": [
    {
     "name": "stdout",
     "output_type": "stream",
     "text": [
      "Epoch 30/50\n",
      "231/231 [==============================] - ETA: 0s - loss: 0.4574 - accuracy: 0.6529WARNING:tensorflow:Early stopping conditioned on metric `accuary` which is not available. Available metrics are: loss,accuracy,val_loss,val_accuracy\n",
      "231/231 [==============================] - 238s 950ms/step - loss: 0.4574 - accuracy: 0.6529 - val_loss: 0.3877 - val_accuracy: 0.6391\n",
      "Epoch 31/50\n",
      "231/231 [==============================] - ETA: 0s - loss: 0.3125 - accuracy: 0.7288WARNING:tensorflow:Early stopping conditioned on metric `accuary` which is not available. Available metrics are: loss,accuracy,val_loss,val_accuracy\n",
      "231/231 [==============================] - 216s 934ms/step - loss: 0.3125 - accuracy: 0.7288 - val_loss: 0.2803 - val_accuracy: 0.7696\n",
      "Epoch 32/50\n",
      "231/231 [==============================] - ETA: 0s - loss: 0.2859 - accuracy: 0.7514WARNING:tensorflow:Early stopping conditioned on metric `accuary` which is not available. Available metrics are: loss,accuracy,val_loss,val_accuracy\n",
      "231/231 [==============================] - 216s 940ms/step - loss: 0.2859 - accuracy: 0.7514 - val_loss: 0.2647 - val_accuracy: 0.7924\n",
      "Epoch 33/50\n",
      "231/231 [==============================] - ETA: 0s - loss: 0.2692 - accuracy: 0.7710WARNING:tensorflow:Early stopping conditioned on metric `accuary` which is not available. Available metrics are: loss,accuracy,val_loss,val_accuracy\n",
      "231/231 [==============================] - 216s 934ms/step - loss: 0.2692 - accuracy: 0.7710 - val_loss: 0.2966 - val_accuracy: 0.7348\n",
      "Epoch 34/50\n",
      "231/231 [==============================] - ETA: 0s - loss: 0.2453 - accuracy: 0.7800WARNING:tensorflow:Early stopping conditioned on metric `accuary` which is not available. Available metrics are: loss,accuracy,val_loss,val_accuracy\n",
      "231/231 [==============================] - 217s 941ms/step - loss: 0.2453 - accuracy: 0.7800 - val_loss: 0.2317 - val_accuracy: 0.8130\n",
      "Epoch 35/50\n",
      "231/231 [==============================] - ETA: 0s - loss: 0.2326 - accuracy: 0.7970WARNING:tensorflow:Early stopping conditioned on metric `accuary` which is not available. Available metrics are: loss,accuracy,val_loss,val_accuracy\n",
      "231/231 [==============================] - 217s 937ms/step - loss: 0.2326 - accuracy: 0.7970 - val_loss: 0.3201 - val_accuracy: 0.7293\n",
      "Epoch 36/50\n",
      "231/231 [==============================] - ETA: 0s - loss: 0.2318 - accuracy: 0.8016WARNING:tensorflow:Early stopping conditioned on metric `accuary` which is not available. Available metrics are: loss,accuracy,val_loss,val_accuracy\n",
      "231/231 [==============================] - 216s 933ms/step - loss: 0.2318 - accuracy: 0.8016 - val_loss: 0.3023 - val_accuracy: 0.7652\n",
      "Epoch 37/50\n",
      "231/231 [==============================] - ETA: 0s - loss: 0.2216 - accuracy: 0.8123WARNING:tensorflow:Early stopping conditioned on metric `accuary` which is not available. Available metrics are: loss,accuracy,val_loss,val_accuracy\n",
      "231/231 [==============================] - 215s 932ms/step - loss: 0.2216 - accuracy: 0.8123 - val_loss: 0.2398 - val_accuracy: 0.7543\n",
      "Epoch 38/50\n",
      "231/231 [==============================] - ETA: 0s - loss: 0.2176 - accuracy: 0.8114WARNING:tensorflow:Early stopping conditioned on metric `accuary` which is not available. Available metrics are: loss,accuracy,val_loss,val_accuracy\n",
      "231/231 [==============================] - 213s 921ms/step - loss: 0.2176 - accuracy: 0.8114 - val_loss: 0.2246 - val_accuracy: 0.8065\n",
      "Epoch 39/50\n",
      "231/231 [==============================] - ETA: 0s - loss: 0.2163 - accuracy: 0.8122WARNING:tensorflow:Early stopping conditioned on metric `accuary` which is not available. Available metrics are: loss,accuracy,val_loss,val_accuracy\n",
      "231/231 [==============================] - 213s 924ms/step - loss: 0.2163 - accuracy: 0.8122 - val_loss: 0.3183 - val_accuracy: 0.7663\n",
      "Epoch 40/50\n",
      "231/231 [==============================] - ETA: 0s - loss: 0.2050 - accuracy: 0.8206WARNING:tensorflow:Early stopping conditioned on metric `accuary` which is not available. Available metrics are: loss,accuracy,val_loss,val_accuracy\n",
      "231/231 [==============================] - 214s 926ms/step - loss: 0.2050 - accuracy: 0.8206 - val_loss: 0.4522 - val_accuracy: 0.6978\n",
      "Epoch 41/50\n",
      "231/231 [==============================] - ETA: 0s - loss: 0.1983 - accuracy: 0.8281WARNING:tensorflow:Early stopping conditioned on metric `accuary` which is not available. Available metrics are: loss,accuracy,val_loss,val_accuracy\n",
      "231/231 [==============================] - 214s 927ms/step - loss: 0.1983 - accuracy: 0.8281 - val_loss: 0.3212 - val_accuracy: 0.7283\n",
      "Epoch 42/50\n",
      "231/231 [==============================] - ETA: 0s - loss: 0.2055 - accuracy: 0.8240WARNING:tensorflow:Early stopping conditioned on metric `accuary` which is not available. Available metrics are: loss,accuracy,val_loss,val_accuracy\n",
      "231/231 [==============================] - 214s 928ms/step - loss: 0.2055 - accuracy: 0.8240 - val_loss: 0.2803 - val_accuracy: 0.7946\n",
      "Epoch 43/50\n",
      "231/231 [==============================] - ETA: 0s - loss: 0.2005 - accuracy: 0.8282WARNING:tensorflow:Early stopping conditioned on metric `accuary` which is not available. Available metrics are: loss,accuracy,val_loss,val_accuracy\n",
      "231/231 [==============================] - 214s 924ms/step - loss: 0.2005 - accuracy: 0.8282 - val_loss: 0.3791 - val_accuracy: 0.7250\n",
      "Epoch 44/50\n",
      "231/231 [==============================] - ETA: 0s - loss: 0.1929 - accuracy: 0.8305WARNING:tensorflow:Early stopping conditioned on metric `accuary` which is not available. Available metrics are: loss,accuracy,val_loss,val_accuracy\n",
      "231/231 [==============================] - 214s 926ms/step - loss: 0.1929 - accuracy: 0.8305 - val_loss: 0.3372 - val_accuracy: 0.6859\n",
      "Epoch 45/50\n",
      "231/231 [==============================] - ETA: 0s - loss: 0.1920 - accuracy: 0.8303WARNING:tensorflow:Early stopping conditioned on metric `accuary` which is not available. Available metrics are: loss,accuracy,val_loss,val_accuracy\n",
      "231/231 [==============================] - 211s 914ms/step - loss: 0.1920 - accuracy: 0.8303 - val_loss: 0.2642 - val_accuracy: 0.8163\n",
      "Epoch 46/50\n",
      "231/231 [==============================] - ETA: 0s - loss: 0.1860 - accuracy: 0.8388WARNING:tensorflow:Early stopping conditioned on metric `accuary` which is not available. Available metrics are: loss,accuracy,val_loss,val_accuracy\n",
      "231/231 [==============================] - 212s 918ms/step - loss: 0.1860 - accuracy: 0.8388 - val_loss: 0.2591 - val_accuracy: 0.8196\n",
      "Epoch 47/50\n",
      "231/231 [==============================] - ETA: 0s - loss: 0.1809 - accuracy: 0.8433WARNING:tensorflow:Early stopping conditioned on metric `accuary` which is not available. Available metrics are: loss,accuracy,val_loss,val_accuracy\n",
      "231/231 [==============================] - 210s 908ms/step - loss: 0.1809 - accuracy: 0.8433 - val_loss: 0.2832 - val_accuracy: 0.7554\n",
      "Epoch 48/50\n",
      "231/231 [==============================] - ETA: 0s - loss: 0.1778 - accuracy: 0.8432WARNING:tensorflow:Early stopping conditioned on metric `accuary` which is not available. Available metrics are: loss,accuracy,val_loss,val_accuracy\n",
      "231/231 [==============================] - 211s 915ms/step - loss: 0.1778 - accuracy: 0.8432 - val_loss: 0.4685 - val_accuracy: 0.7261\n",
      "Epoch 49/50\n",
      "231/231 [==============================] - ETA: 0s - loss: 0.1768 - accuracy: 0.8472WARNING:tensorflow:Early stopping conditioned on metric `accuary` which is not available. Available metrics are: loss,accuracy,val_loss,val_accuracy\n",
      "231/231 [==============================] - 212s 915ms/step - loss: 0.1768 - accuracy: 0.8472 - val_loss: 0.2172 - val_accuracy: 0.8109\n",
      "Epoch 50/50\n",
      "231/231 [==============================] - ETA: 0s - loss: 0.1719 - accuracy: 0.8533WARNING:tensorflow:Early stopping conditioned on metric `accuary` which is not available. Available metrics are: loss,accuracy,val_loss,val_accuracy\n",
      "231/231 [==============================] - 212s 917ms/step - loss: 0.1719 - accuracy: 0.8533 - val_loss: 0.2265 - val_accuracy: 0.8207\n"
     ]
    }
   ],
   "source": [
    "history_model_4_fine_tune = model4.fit(trainGen, \n",
    "                                      epochs=50, \n",
    "                                      validation_data=valGen, \n",
    "                                      initial_epoch=29,callbacks=[early_stopping1]\n",
    "                                      )"
   ]
  },
  {
   "cell_type": "code",
   "execution_count": 15,
   "metadata": {
    "colab": {
     "base_uri": "https://localhost:8080/",
     "height": 574
    },
    "id": "tGoRWV6wqoJZ",
    "outputId": "3d0e9d8b-9807-4a51-80eb-dac35d9b9aea"
   },
   "outputs": [
    {
     "data": {
      "image/png": "[encoded data removed]",
      "text/plain": [
       "<Figure size 432x288 with 1 Axes>"
      ]
     },
     "metadata": {
      "needs_background": "light"
     },
     "output_type": "display_data"
    },
    {
     "data": {
      "image/png": "[encoded data removed]",
      "text/plain": [
       "<Figure size 432x288 with 1 Axes>"
      ]
     },
     "metadata": {
      "needs_background": "light"
     },
     "output_type": "display_data"
    }
   ],
   "source": [
    "import matplotlib\n",
    "import matplotlib.pyplot as plt2\n",
    "\n",
    "plt2.plot(history.history['loss']+history_model_4_fine_tune.history['accuracy'], 'r', label='Loss Training')\n",
    "plt2.plot(history.history['val_loss']+history_model_4_fine_tune.history['val_accuracy'], 'b', label='Loss Validation')\n",
    "plt2.title('Loss Training ve Validation')\n",
    "plt2.ylabel('Loss')\n",
    "plt2.xlabel('Epoch')\n",
    "plt2.axis([0,50,0,1.3])\n",
    "plt2.legend()\n",
    "plt2.show()\n",
    "\n",
    "plt2.plot(history.history['accuracy']+history_model_4_fine_tune.history['accuracy'], 'r', label='Loss Training')\n",
    "plt2.plot(history.history['val_accuracy']+history_model_4_fine_tune.history['val_accuracy'], 'b', label='Loss Validation')\n",
    "plt2.title('Accuracy Training ve Validation')\n",
    "plt2.ylabel('accuracy')\n",
    "plt2.xlabel('val_accuracy')\n",
    "plt2.axis([0,50,0,1])\n",
    "plt2.legend(loc='best')\n",
    "plt2.show()"
   ]
  },
  {
   "cell_type": "code",
   "execution_count": 53,
   "metadata": {
    "id": "3qvzppRD7GsD"
   },
   "outputs": [],
   "source": [
    "    from sklearn import datasets\n",
    "    from sklearn.tree import DecisionTreeClassifier\n",
    "    from sklearn.model_selection import train_test_split\n",
    "    from sklearn.metrics import classification_report, confusion_matrix"
   ]
  },
  {
   "cell_type": "code",
   "execution_count": 52,
   "metadata": {
    "colab": {
     "base_uri": "https://localhost:8080/"
    },
    "id": "9mQgJDSM7GGQ",
    "outputId": "f0955ed1-96a9-4c7d-a2e1-7f675936984c"
   },
   "outputs": [
    {
     "name": "stdout",
     "output_type": "stream",
     "text": [
      "              precision    recall  f1-score   support\n",
      "\n",
      "     class_0       0.90      0.95      0.92        19\n",
      "     class_1       0.92      0.71      0.80        17\n",
      "     class_2       0.86      1.00      0.92        18\n",
      "\n",
      "    accuracy                           0.89        54\n",
      "   macro avg       0.89      0.88      0.88        54\n",
      "weighted avg       0.89      0.89      0.88        54\n",
      "\n",
      "[[18  1  0]\n",
      " [ 2 12  3]\n",
      " [ 0  0 18]]\n"
     ]
    }
   ],
   "source": [
    "    wine = datasets.load_wine()\n",
    "    X = wine.data\n",
    "    y = wine.target\n",
    "    class_names = wine.target_names\n",
    "    X_train, X_test, y_train, y_test = train_test_split(X, y, test_size=0.30)\n",
    "    classifier_tree = DecisionTreeClassifier()\n",
    "    y_predict = classifier_tree.fit(X_train, y_train).predict(X_test)\n",
    "    print(classification_report(y_test, y_predict, target_names=class_names))\n",
    "    print(confusion_matrix(y_test, y_predict))"
   ]
  },
  {
   "cell_type": "markdown",
   "metadata": {
    "id": "tEQb7WZnRD7f"
   },
   "source": [
    "**model 5**"
   ]
  },
  {
   "cell_type": "code",
   "execution_count": 29,
   "metadata": {
    "colab": {
     "base_uri": "https://localhost:8080/"
    },
    "id": "OxApc0LYQGao",
    "outputId": "01a98981-1f96-4986-d04d-52ae18feb69c"
   },
   "outputs": [
    {
     "name": "stdout",
     "output_type": "stream",
     "text": [
      "Model: \"sequential_3\"\n",
      "_________________________________________________________________\n",
      " Layer (type)                Output Shape              Param #   \n",
      "=================================================================\n",
      " efficientnetv2-m (Functiona  (None, 7, 7, 1280)       53150388  \n",
      " l)                                                              \n",
      "                                                                 \n",
      " global_average_pooling2d_5   (None, 1280)             0         \n",
      " (GlobalAveragePooling2D)                                        \n",
      "                                                                 \n",
      " dense_13 (Dense)            (None, 128)               163968    \n",
      "                                                                 \n",
      " dense_14 (Dense)            (None, 64)                8256      \n",
      "                                                                 \n",
      " dropout_5 (Dropout)         (None, 64)                0         \n",
      "                                                                 \n",
      " dense_15 (Dense)            (None, 4)                 260       \n",
      "                                                                 \n",
      "=================================================================\n",
      "Total params: 53,322,872\n",
      "Trainable params: 172,484\n",
      "Non-trainable params: 53,150,388\n",
      "_________________________________________________________________\n"
     ]
    }
   ],
   "source": [
    "from tensorflow.keras import regularizers\n",
    "pretrained_base = tf.keras.applications.EfficientNetV2M(\n",
    "    include_top = False,\n",
    "    input_shape = (224, 224, 3),\n",
    "    weights = \"imagenet\"\n",
    ")\n",
    "# Eğitilmiş noktalarda dondurma yapılır\n",
    "pretrained_base.trainable = False;\n",
    "\n",
    "model5 = tf.keras.Sequential([\n",
    "    pretrained_base,\n",
    "    tf.keras.layers.GlobalAveragePooling2D(),\n",
    "    tf.keras.layers.Dense(128, activation='sigmoid'),\n",
    "    tf.keras.layers.Dense(64, kernel_regularizer=regularizers.L1L2(l1=1e-5, l2=1e-4), bias_regularizer=regularizers.L2(1e-4), activity_regularizer=regularizers.L2(1e-5)),\n",
    "    tf.keras.layers.Dropout(0.25),\n",
    "    tf.keras.layers.Dense(4, activation='softmax'),\n",
    "   ])\n",
    "model5.summary()"
   ]
  },
  {
   "cell_type": "code",
   "execution_count": 30,
   "metadata": {
    "id": "3t1-umHeRXz2"
   },
   "outputs": [],
   "source": [
    "# Early Stopping çağrı noktası ayarlıyoruz categorical_crossentropy\n",
    "early_stopping1 = tf.keras.callbacks.EarlyStopping(monitor='accuary',\n",
    "                                                 patience=1)"
   ]
  },
  {
   "cell_type": "code",
   "execution_count": 32,
   "metadata": {
    "colab": {
     "base_uri": "https://localhost:8080/"
    },
    "id": "4bcx_eO7Rb1a",
    "outputId": "e870df8c-acdd-4008-8ff0-b7a818a73a2f"
   },
   "outputs": [
    {
     "name": "stdout",
     "output_type": "stream",
     "text": [
      "Epoch 1/30\n",
      "231/231 [==============================] - ETA: 0s - loss: 0.5425 - accuracy: 0.4125WARNING:tensorflow:Early stopping conditioned on metric `accuary` which is not available. Available metrics are: loss,accuracy,val_loss,val_accuracy\n",
      "231/231 [==============================] - 215s 835ms/step - loss: 0.5425 - accuracy: 0.4125 - val_loss: 0.4939 - val_accuracy: 0.4674\n",
      "Epoch 2/30\n",
      "231/231 [==============================] - ETA: 0s - loss: 0.4718 - accuracy: 0.5534WARNING:tensorflow:Early stopping conditioned on metric `accuary` which is not available. Available metrics are: loss,accuracy,val_loss,val_accuracy\n",
      "231/231 [==============================] - 189s 789ms/step - loss: 0.4718 - accuracy: 0.5534 - val_loss: 0.4479 - val_accuracy: 0.5685\n",
      "Epoch 3/30\n",
      "231/231 [==============================] - ETA: 0s - loss: 0.4415 - accuracy: 0.5899WARNING:tensorflow:Early stopping conditioned on metric `accuary` which is not available. Available metrics are: loss,accuracy,val_loss,val_accuracy\n",
      "231/231 [==============================] - 177s 727ms/step - loss: 0.4415 - accuracy: 0.5899 - val_loss: 0.4510 - val_accuracy: 0.5380\n",
      "Epoch 4/30\n",
      "231/231 [==============================] - ETA: 0s - loss: 0.4330 - accuracy: 0.6050WARNING:tensorflow:Early stopping conditioned on metric `accuary` which is not available. Available metrics are: loss,accuracy,val_loss,val_accuracy\n",
      "231/231 [==============================] - 172s 728ms/step - loss: 0.4330 - accuracy: 0.6050 - val_loss: 0.4115 - val_accuracy: 0.6239\n",
      "Epoch 5/30\n",
      "231/231 [==============================] - ETA: 0s - loss: 0.4206 - accuracy: 0.6209WARNING:tensorflow:Early stopping conditioned on metric `accuary` which is not available. Available metrics are: loss,accuracy,val_loss,val_accuracy\n",
      "231/231 [==============================] - 173s 729ms/step - loss: 0.4206 - accuracy: 0.6209 - val_loss: 0.4044 - val_accuracy: 0.6565\n",
      "Epoch 6/30\n",
      "231/231 [==============================] - ETA: 0s - loss: 0.4100 - accuracy: 0.6381WARNING:tensorflow:Early stopping conditioned on metric `accuary` which is not available. Available metrics are: loss,accuracy,val_loss,val_accuracy\n",
      "231/231 [==============================] - 180s 740ms/step - loss: 0.4100 - accuracy: 0.6381 - val_loss: 0.4042 - val_accuracy: 0.6478\n",
      "Epoch 7/30\n",
      "231/231 [==============================] - ETA: 0s - loss: 0.4050 - accuracy: 0.6415WARNING:tensorflow:Early stopping conditioned on metric `accuary` which is not available. Available metrics are: loss,accuracy,val_loss,val_accuracy\n",
      "231/231 [==============================] - 177s 734ms/step - loss: 0.4050 - accuracy: 0.6415 - val_loss: 0.3906 - val_accuracy: 0.6489\n",
      "Epoch 8/30\n",
      "231/231 [==============================] - ETA: 0s - loss: 0.4018 - accuracy: 0.6444WARNING:tensorflow:Early stopping conditioned on metric `accuary` which is not available. Available metrics are: loss,accuracy,val_loss,val_accuracy\n",
      "231/231 [==============================] - 190s 809ms/step - loss: 0.4018 - accuracy: 0.6444 - val_loss: 0.4004 - val_accuracy: 0.6359\n",
      "Epoch 9/30\n",
      "231/231 [==============================] - ETA: 0s - loss: 0.4002 - accuracy: 0.6499WARNING:tensorflow:Early stopping conditioned on metric `accuary` which is not available. Available metrics are: loss,accuracy,val_loss,val_accuracy\n",
      "231/231 [==============================] - 175s 737ms/step - loss: 0.4002 - accuracy: 0.6499 - val_loss: 0.4329 - val_accuracy: 0.6054\n",
      "Epoch 10/30\n",
      "231/231 [==============================] - ETA: 0s - loss: 0.3939 - accuracy: 0.6596WARNING:tensorflow:Early stopping conditioned on metric `accuary` which is not available. Available metrics are: loss,accuracy,val_loss,val_accuracy\n",
      "231/231 [==============================] - 177s 746ms/step - loss: 0.3939 - accuracy: 0.6596 - val_loss: 0.3828 - val_accuracy: 0.6663\n",
      "Epoch 11/30\n",
      "231/231 [==============================] - ETA: 0s - loss: 0.3870 - accuracy: 0.6625WARNING:tensorflow:Early stopping conditioned on metric `accuary` which is not available. Available metrics are: loss,accuracy,val_loss,val_accuracy\n",
      "231/231 [==============================] - 179s 738ms/step - loss: 0.3870 - accuracy: 0.6625 - val_loss: 0.3884 - val_accuracy: 0.6609\n",
      "Epoch 12/30\n",
      "231/231 [==============================] - ETA: 0s - loss: 0.3852 - accuracy: 0.6598WARNING:tensorflow:Early stopping conditioned on metric `accuary` which is not available. Available metrics are: loss,accuracy,val_loss,val_accuracy\n",
      "231/231 [==============================] - 174s 732ms/step - loss: 0.3852 - accuracy: 0.6598 - val_loss: 0.3780 - val_accuracy: 0.6913\n",
      "Epoch 13/30\n",
      "231/231 [==============================] - ETA: 0s - loss: 0.3845 - accuracy: 0.6691WARNING:tensorflow:Early stopping conditioned on metric `accuary` which is not available. Available metrics are: loss,accuracy,val_loss,val_accuracy\n",
      "231/231 [==============================] - 175s 743ms/step - loss: 0.3845 - accuracy: 0.6691 - val_loss: 0.3752 - val_accuracy: 0.6728\n",
      "Epoch 14/30\n",
      "231/231 [==============================] - ETA: 0s - loss: 0.3775 - accuracy: 0.6733WARNING:tensorflow:Early stopping conditioned on metric `accuary` which is not available. Available metrics are: loss,accuracy,val_loss,val_accuracy\n",
      "231/231 [==============================] - 176s 742ms/step - loss: 0.3775 - accuracy: 0.6733 - val_loss: 0.3675 - val_accuracy: 0.6826\n",
      "Epoch 15/30\n",
      "231/231 [==============================] - ETA: 0s - loss: 0.3753 - accuracy: 0.6749WARNING:tensorflow:Early stopping conditioned on metric `accuary` which is not available. Available metrics are: loss,accuracy,val_loss,val_accuracy\n",
      "231/231 [==============================] - 180s 741ms/step - loss: 0.3753 - accuracy: 0.6749 - val_loss: 0.3675 - val_accuracy: 0.6989\n",
      "Epoch 16/30\n",
      "231/231 [==============================] - ETA: 0s - loss: 0.3737 - accuracy: 0.6761WARNING:tensorflow:Early stopping conditioned on metric `accuary` which is not available. Available metrics are: loss,accuracy,val_loss,val_accuracy\n",
      "231/231 [==============================] - 174s 735ms/step - loss: 0.3737 - accuracy: 0.6761 - val_loss: 0.3738 - val_accuracy: 0.6685\n",
      "Epoch 17/30\n",
      "231/231 [==============================] - ETA: 0s - loss: 0.3723 - accuracy: 0.6779WARNING:tensorflow:Early stopping conditioned on metric `accuary` which is not available. Available metrics are: loss,accuracy,val_loss,val_accuracy\n",
      "231/231 [==============================] - 175s 731ms/step - loss: 0.3723 - accuracy: 0.6779 - val_loss: 0.3712 - val_accuracy: 0.6924\n",
      "Epoch 18/30\n",
      "231/231 [==============================] - ETA: 0s - loss: 0.3721 - accuracy: 0.6782WARNING:tensorflow:Early stopping conditioned on metric `accuary` which is not available. Available metrics are: loss,accuracy,val_loss,val_accuracy\n",
      "231/231 [==============================] - 181s 742ms/step - loss: 0.3721 - accuracy: 0.6782 - val_loss: 0.3657 - val_accuracy: 0.6859\n",
      "Epoch 19/30\n",
      "231/231 [==============================] - ETA: 0s - loss: 0.3684 - accuracy: 0.6816WARNING:tensorflow:Early stopping conditioned on metric `accuary` which is not available. Available metrics are: loss,accuracy,val_loss,val_accuracy\n",
      "231/231 [==============================] - 181s 754ms/step - loss: 0.3684 - accuracy: 0.6816 - val_loss: 0.3810 - val_accuracy: 0.6891\n",
      "Epoch 20/30\n",
      "231/231 [==============================] - ETA: 0s - loss: 0.3655 - accuracy: 0.6839WARNING:tensorflow:Early stopping conditioned on metric `accuary` which is not available. Available metrics are: loss,accuracy,val_loss,val_accuracy\n",
      "231/231 [==============================] - 179s 736ms/step - loss: 0.3655 - accuracy: 0.6839 - val_loss: 0.3564 - val_accuracy: 0.7120\n",
      "Epoch 21/30\n",
      "231/231 [==============================] - ETA: 0s - loss: 0.3641 - accuracy: 0.6900WARNING:tensorflow:Early stopping conditioned on metric `accuary` which is not available. Available metrics are: loss,accuracy,val_loss,val_accuracy\n",
      "231/231 [==============================] - 178s 737ms/step - loss: 0.3641 - accuracy: 0.6900 - val_loss: 0.3574 - val_accuracy: 0.7043\n",
      "Epoch 22/30\n",
      "231/231 [==============================] - ETA: 0s - loss: 0.3607 - accuracy: 0.6924WARNING:tensorflow:Early stopping conditioned on metric `accuary` which is not available. Available metrics are: loss,accuracy,val_loss,val_accuracy\n",
      "231/231 [==============================] - 179s 746ms/step - loss: 0.3607 - accuracy: 0.6924 - val_loss: 0.3480 - val_accuracy: 0.7087\n",
      "Epoch 23/30\n",
      "231/231 [==============================] - ETA: 0s - loss: 0.3585 - accuracy: 0.6912WARNING:tensorflow:Early stopping conditioned on metric `accuary` which is not available. Available metrics are: loss,accuracy,val_loss,val_accuracy\n",
      "231/231 [==============================] - 176s 749ms/step - loss: 0.3585 - accuracy: 0.6912 - val_loss: 0.3489 - val_accuracy: 0.7130\n",
      "Epoch 24/30\n",
      "231/231 [==============================] - ETA: 0s - loss: 0.3565 - accuracy: 0.6908WARNING:tensorflow:Early stopping conditioned on metric `accuary` which is not available. Available metrics are: loss,accuracy,val_loss,val_accuracy\n",
      "231/231 [==============================] - 176s 740ms/step - loss: 0.3565 - accuracy: 0.6908 - val_loss: 0.3558 - val_accuracy: 0.7109\n",
      "Epoch 25/30\n",
      "231/231 [==============================] - ETA: 0s - loss: 0.3595 - accuracy: 0.6901WARNING:tensorflow:Early stopping conditioned on metric `accuary` which is not available. Available metrics are: loss,accuracy,val_loss,val_accuracy\n",
      "231/231 [==============================] - 181s 749ms/step - loss: 0.3595 - accuracy: 0.6901 - val_loss: 0.3488 - val_accuracy: 0.7141\n",
      "Epoch 26/30\n",
      "231/231 [==============================] - ETA: 0s - loss: 0.3538 - accuracy: 0.6981WARNING:tensorflow:Early stopping conditioned on metric `accuary` which is not available. Available metrics are: loss,accuracy,val_loss,val_accuracy\n",
      "231/231 [==============================] - 175s 736ms/step - loss: 0.3538 - accuracy: 0.6981 - val_loss: 0.3436 - val_accuracy: 0.7130\n",
      "Epoch 27/30\n",
      "231/231 [==============================] - ETA: 0s - loss: 0.3497 - accuracy: 0.6996WARNING:tensorflow:Early stopping conditioned on metric `accuary` which is not available. Available metrics are: loss,accuracy,val_loss,val_accuracy\n",
      "231/231 [==============================] - 180s 739ms/step - loss: 0.3497 - accuracy: 0.6996 - val_loss: 0.3432 - val_accuracy: 0.7109\n",
      "Epoch 28/30\n",
      "231/231 [==============================] - ETA: 0s - loss: 0.3462 - accuracy: 0.7049WARNING:tensorflow:Early stopping conditioned on metric `accuary` which is not available. Available metrics are: loss,accuracy,val_loss,val_accuracy\n",
      "231/231 [==============================] - 179s 739ms/step - loss: 0.3462 - accuracy: 0.7049 - val_loss: 0.3458 - val_accuracy: 0.7196\n",
      "Epoch 29/30\n",
      "231/231 [==============================] - ETA: 0s - loss: 0.3518 - accuracy: 0.6993WARNING:tensorflow:Early stopping conditioned on metric `accuary` which is not available. Available metrics are: loss,accuracy,val_loss,val_accuracy\n",
      "231/231 [==============================] - 180s 742ms/step - loss: 0.3518 - accuracy: 0.6993 - val_loss: 0.3390 - val_accuracy: 0.7163\n",
      "Epoch 30/30\n",
      "231/231 [==============================] - ETA: 0s - loss: 0.3470 - accuracy: 0.7045WARNING:tensorflow:Early stopping conditioned on metric `accuary` which is not available. Available metrics are: loss,accuracy,val_loss,val_accuracy\n",
      "231/231 [==============================] - 176s 741ms/step - loss: 0.3470 - accuracy: 0.7045 - val_loss: 0.3486 - val_accuracy: 0.7141\n"
     ]
    }
   ],
   "source": [
    "model5.compile(\n",
    "    optimizer = tf.keras.optimizers.Adam(0.001),\n",
    "    loss='binary_crossentropy',\n",
    "    metrics='accuracy'\n",
    ")\n",
    "\n",
    "history5 = model5.fit(trainGen,\n",
    "                    epochs = 30, \n",
    "                    validation_data =valGen,\n",
    "                    workers = 8, # Eğitimimizi potansiyel olarak hızlandırmak için daha yüksek çalışan sayısı\n",
    "                    verbose = 1, callbacks=[early_stopping1]\n",
    "                    )"
   ]
  },
  {
   "cell_type": "code",
   "execution_count": 37,
   "metadata": {
    "colab": {
     "base_uri": "https://localhost:8080/",
     "height": 574
    },
    "id": "l4L3GzZiRlWz",
    "outputId": "59173cbe-a56c-402c-e2e4-cf61a1b7bf73"
   },
   "outputs": [
    {
     "data": {
      "image/png": "[encoded data removed]",
      "text/plain": [
       "<Figure size 432x288 with 1 Axes>"
      ]
     },
     "metadata": {
      "needs_background": "light"
     },
     "output_type": "display_data"
    },
    {
     "data": {
      "image/png": "[encoded data removed]",
      "text/plain": [
       "<Figure size 432x288 with 1 Axes>"
      ]
     },
     "metadata": {
      "needs_background": "light"
     },
     "output_type": "display_data"
    }
   ],
   "source": [
    "import matplotlib\n",
    "import matplotlib.pyplot as plt5\n",
    "\n",
    "plt5.plot(history.history['loss'], 'r', label='Loss Training')\n",
    "plt5.plot(history.history['val_loss'], 'b', label='Loss Validation')\n",
    "plt5.title('Loss Training ve Validation')\n",
    "plt5.ylabel('Loss')\n",
    "plt5.xlabel('Epoch')\n",
    "plt5.axis([0,50,0,1.3])\n",
    "plt5.legend()\n",
    "plt5.show()\n",
    "\n",
    "plt5.plot(history.history['accuracy'], 'r', label='Loss Training')\n",
    "plt5.plot(history.history['val_accuracy'], 'b', label='Loss Validation')\n",
    "plt5.title('Accuracy Training ve Validation')\n",
    "plt5.ylabel('accuracy')\n",
    "plt5.xlabel('val_accuracy')\n",
    "plt5.axis([0,50,0,1])\n",
    "plt5.legend(loc='best')\n",
    "plt5.show()"
   ]
  },
  {
   "cell_type": "code",
   "execution_count": 55,
   "metadata": {
    "colab": {
     "base_uri": "https://localhost:8080/"
    },
    "id": "prxczQNu7bTQ",
    "outputId": "d1afa361-3461-4a00-c777-2696d0e0e8bc"
   },
   "outputs": [
    {
     "name": "stdout",
     "output_type": "stream",
     "text": [
      "              precision    recall  f1-score   support\n",
      "\n",
      "     class_0       1.00      1.00      1.00        16\n",
      "     class_1       0.85      0.89      0.87        19\n",
      "     class_2       0.89      0.84      0.86        19\n",
      "\n",
      "    accuracy                           0.91        54\n",
      "   macro avg       0.91      0.91      0.91        54\n",
      "weighted avg       0.91      0.91      0.91        54\n",
      "\n",
      "[[16  0  0]\n",
      " [ 0 17  2]\n",
      " [ 0  3 16]]\n"
     ]
    }
   ],
   "source": [
    "    from sklearn import datasets\n",
    "    from sklearn.tree import DecisionTreeClassifier\n",
    "    from sklearn.model_selection import train_test_split\n",
    "    from sklearn.metrics import classification_report, confusion_matrix\n",
    "    wine = datasets.load_wine()\n",
    "    X = wine.data\n",
    "    y = wine.target\n",
    "    class_names = wine.target_names\n",
    "    X_train, X_test, y_train, y_test = train_test_split(X, y, test_size=0.30)\n",
    "    classifier_tree = DecisionTreeClassifier()\n",
    "    y_predict = classifier_tree.fit(X_train, y_train).predict(X_test)\n",
    "    print(classification_report(y_test, y_predict, target_names=class_names))\n",
    "    print(confusion_matrix(y_test, y_predict))"
   ]
  },
  {
   "cell_type": "code",
   "execution_count": 38,
   "metadata": {
    "id": "5bhDydhlR2LD"
   },
   "outputs": [],
   "source": [
    "pretrained_base.trainable = True\n",
    "\n",
    "# Katmanlarda dondurma yapıyoruz\n",
    "for layer in pretrained_base.layers[:-75]:\n",
    "    layer.trainable = False"
   ]
  },
  {
   "cell_type": "code",
   "execution_count": 39,
   "metadata": {
    "id": "4eu4ruavR4jI"
   },
   "outputs": [],
   "source": [
    "# modeli yeniden derliyoruz\n",
    "model5.compile(loss='binary_crossentropy',\n",
    "               optimizer='adam',\n",
    "               metrics=['accuracy'])"
   ]
  },
  {
   "cell_type": "code",
   "execution_count": 40,
   "metadata": {
    "colab": {
     "base_uri": "https://localhost:8080/"
    },
    "id": "FF8YCDFAR-hF",
    "outputId": "c704ad07-d16a-4f84-c002-8ace9943df76"
   },
   "outputs": [
    {
     "name": "stdout",
     "output_type": "stream",
     "text": [
      "Epoch 30/50\n",
      "231/231 [==============================] - ETA: 0s - loss: 0.5224 - accuracy: 0.6801WARNING:tensorflow:Early stopping conditioned on metric `accuary` which is not available. Available metrics are: loss,accuracy,val_loss,val_accuracy\n",
      "231/231 [==============================] - 252s 1s/step - loss: 0.5224 - accuracy: 0.6801 - val_loss: 1.2942 - val_accuracy: 0.3783\n",
      "Epoch 31/50\n",
      "231/231 [==============================] - ETA: 0s - loss: 0.3121 - accuracy: 0.7371WARNING:tensorflow:Early stopping conditioned on metric `accuary` which is not available. Available metrics are: loss,accuracy,val_loss,val_accuracy\n",
      "231/231 [==============================] - 229s 992ms/step - loss: 0.3121 - accuracy: 0.7371 - val_loss: 0.3299 - val_accuracy: 0.7478\n",
      "Epoch 32/50\n",
      "231/231 [==============================] - ETA: 0s - loss: 0.2917 - accuracy: 0.7598WARNING:tensorflow:Early stopping conditioned on metric `accuary` which is not available. Available metrics are: loss,accuracy,val_loss,val_accuracy\n",
      "231/231 [==============================] - 227s 982ms/step - loss: 0.2917 - accuracy: 0.7598 - val_loss: 0.2926 - val_accuracy: 0.7674\n",
      "Epoch 33/50\n",
      "231/231 [==============================] - ETA: 0s - loss: 0.2651 - accuracy: 0.7830WARNING:tensorflow:Early stopping conditioned on metric `accuary` which is not available. Available metrics are: loss,accuracy,val_loss,val_accuracy\n",
      "231/231 [==============================] - 226s 981ms/step - loss: 0.2651 - accuracy: 0.7830 - val_loss: 0.2765 - val_accuracy: 0.7761\n",
      "Epoch 34/50\n",
      "231/231 [==============================] - ETA: 0s - loss: 0.2664 - accuracy: 0.7768WARNING:tensorflow:Early stopping conditioned on metric `accuary` which is not available. Available metrics are: loss,accuracy,val_loss,val_accuracy\n",
      "231/231 [==============================] - 229s 989ms/step - loss: 0.2664 - accuracy: 0.7768 - val_loss: 0.2707 - val_accuracy: 0.7620\n",
      "Epoch 35/50\n",
      "231/231 [==============================] - ETA: 0s - loss: 0.2408 - accuracy: 0.8032WARNING:tensorflow:Early stopping conditioned on metric `accuary` which is not available. Available metrics are: loss,accuracy,val_loss,val_accuracy\n",
      "231/231 [==============================] - 227s 980ms/step - loss: 0.2408 - accuracy: 0.8032 - val_loss: 0.2837 - val_accuracy: 0.7304\n",
      "Epoch 36/50\n",
      "231/231 [==============================] - ETA: 0s - loss: 0.2340 - accuracy: 0.8064WARNING:tensorflow:Early stopping conditioned on metric `accuary` which is not available. Available metrics are: loss,accuracy,val_loss,val_accuracy\n",
      "231/231 [==============================] - 224s 970ms/step - loss: 0.2340 - accuracy: 0.8064 - val_loss: 0.2844 - val_accuracy: 0.7641\n",
      "Epoch 37/50\n",
      "231/231 [==============================] - ETA: 0s - loss: 0.2297 - accuracy: 0.8080WARNING:tensorflow:Early stopping conditioned on metric `accuary` which is not available. Available metrics are: loss,accuracy,val_loss,val_accuracy\n",
      "231/231 [==============================] - 227s 983ms/step - loss: 0.2297 - accuracy: 0.8080 - val_loss: 0.2317 - val_accuracy: 0.8087\n",
      "Epoch 38/50\n",
      "231/231 [==============================] - ETA: 0s - loss: 0.2292 - accuracy: 0.8108WARNING:tensorflow:Early stopping conditioned on metric `accuary` which is not available. Available metrics are: loss,accuracy,val_loss,val_accuracy\n",
      "231/231 [==============================] - 228s 986ms/step - loss: 0.2292 - accuracy: 0.8108 - val_loss: 0.3438 - val_accuracy: 0.7283\n",
      "Epoch 39/50\n",
      "231/231 [==============================] - ETA: 0s - loss: 0.2202 - accuracy: 0.8161WARNING:tensorflow:Early stopping conditioned on metric `accuary` which is not available. Available metrics are: loss,accuracy,val_loss,val_accuracy\n",
      "231/231 [==============================] - 226s 979ms/step - loss: 0.2202 - accuracy: 0.8161 - val_loss: 0.2868 - val_accuracy: 0.7511\n",
      "Epoch 40/50\n",
      "231/231 [==============================] - ETA: 0s - loss: 0.2179 - accuracy: 0.8160WARNING:tensorflow:Early stopping conditioned on metric `accuary` which is not available. Available metrics are: loss,accuracy,val_loss,val_accuracy\n",
      "231/231 [==============================] - 228s 985ms/step - loss: 0.2179 - accuracy: 0.8160 - val_loss: 0.3631 - val_accuracy: 0.7196\n",
      "Epoch 41/50\n",
      "231/231 [==============================] - ETA: 0s - loss: 0.2169 - accuracy: 0.8198WARNING:tensorflow:Early stopping conditioned on metric `accuary` which is not available. Available metrics are: loss,accuracy,val_loss,val_accuracy\n",
      "231/231 [==============================] - 228s 985ms/step - loss: 0.2169 - accuracy: 0.8198 - val_loss: 0.4157 - val_accuracy: 0.7283\n",
      "Epoch 42/50\n",
      "231/231 [==============================] - ETA: 0s - loss: 0.2059 - accuracy: 0.8311WARNING:tensorflow:Early stopping conditioned on metric `accuary` which is not available. Available metrics are: loss,accuracy,val_loss,val_accuracy\n",
      "231/231 [==============================] - 226s 977ms/step - loss: 0.2059 - accuracy: 0.8311 - val_loss: 0.2395 - val_accuracy: 0.7935\n",
      "Epoch 43/50\n",
      "231/231 [==============================] - ETA: 0s - loss: 0.2082 - accuracy: 0.8300WARNING:tensorflow:Early stopping conditioned on metric `accuary` which is not available. Available metrics are: loss,accuracy,val_loss,val_accuracy\n",
      "231/231 [==============================] - 228s 988ms/step - loss: 0.2082 - accuracy: 0.8300 - val_loss: 0.2252 - val_accuracy: 0.8174\n",
      "Epoch 44/50\n",
      "231/231 [==============================] - ETA: 0s - loss: 0.2052 - accuracy: 0.8279WARNING:tensorflow:Early stopping conditioned on metric `accuary` which is not available. Available metrics are: loss,accuracy,val_loss,val_accuracy\n",
      "231/231 [==============================] - 225s 976ms/step - loss: 0.2052 - accuracy: 0.8279 - val_loss: 0.2325 - val_accuracy: 0.8130\n",
      "Epoch 45/50\n",
      "231/231 [==============================] - ETA: 0s - loss: 0.1924 - accuracy: 0.8432WARNING:tensorflow:Early stopping conditioned on metric `accuary` which is not available. Available metrics are: loss,accuracy,val_loss,val_accuracy\n",
      "231/231 [==============================] - 227s 982ms/step - loss: 0.1924 - accuracy: 0.8432 - val_loss: 0.2990 - val_accuracy: 0.7924\n",
      "Epoch 46/50\n",
      "231/231 [==============================] - ETA: 0s - loss: 0.1925 - accuracy: 0.8387WARNING:tensorflow:Early stopping conditioned on metric `accuary` which is not available. Available metrics are: loss,accuracy,val_loss,val_accuracy\n",
      "231/231 [==============================] - 227s 983ms/step - loss: 0.1925 - accuracy: 0.8387 - val_loss: 0.3662 - val_accuracy: 0.6880\n",
      "Epoch 47/50\n",
      "231/231 [==============================] - ETA: 0s - loss: 0.1918 - accuracy: 0.8366WARNING:tensorflow:Early stopping conditioned on metric `accuary` which is not available. Available metrics are: loss,accuracy,val_loss,val_accuracy\n",
      "231/231 [==============================] - 228s 986ms/step - loss: 0.1918 - accuracy: 0.8366 - val_loss: 0.2579 - val_accuracy: 0.7848\n",
      "Epoch 48/50\n",
      "231/231 [==============================] - ETA: 0s - loss: 0.1881 - accuracy: 0.8434WARNING:tensorflow:Early stopping conditioned on metric `accuary` which is not available. Available metrics are: loss,accuracy,val_loss,val_accuracy\n",
      "231/231 [==============================] - 226s 980ms/step - loss: 0.1881 - accuracy: 0.8434 - val_loss: 0.2270 - val_accuracy: 0.8011\n",
      "Epoch 49/50\n",
      "231/231 [==============================] - ETA: 0s - loss: 0.1765 - accuracy: 0.8533WARNING:tensorflow:Early stopping conditioned on metric `accuary` which is not available. Available metrics are: loss,accuracy,val_loss,val_accuracy\n",
      "231/231 [==============================] - 229s 990ms/step - loss: 0.1765 - accuracy: 0.8533 - val_loss: 0.2870 - val_accuracy: 0.7891\n",
      "Epoch 50/50\n",
      "231/231 [==============================] - ETA: 0s - loss: 0.1808 - accuracy: 0.8483WARNING:tensorflow:Early stopping conditioned on metric `accuary` which is not available. Available metrics are: loss,accuracy,val_loss,val_accuracy\n",
      "231/231 [==============================] - 231s 1s/step - loss: 0.1808 - accuracy: 0.8483 - val_loss: 0.2778 - val_accuracy: 0.7685\n"
     ]
    }
   ],
   "source": [
    "history_model_5_fine_tune = model5.fit(trainGen, \n",
    "                                      epochs=50, \n",
    "                                      validation_data=valGen, \n",
    "                                      initial_epoch=29,callbacks=[early_stopping1]\n",
    "                                      )"
   ]
  },
  {
   "cell_type": "code",
   "execution_count": 42,
   "metadata": {
    "colab": {
     "base_uri": "https://localhost:8080/",
     "height": 574
    },
    "id": "AKkpOo21SCtZ",
    "outputId": "1d25389d-87ad-43eb-bde0-d25a3d2c1e51"
   },
   "outputs": [
    {
     "data": {
      "image/png": "[encoded data removed]",
      "text/plain": [
       "<Figure size 432x288 with 1 Axes>"
      ]
     },
     "metadata": {
      "needs_background": "light"
     },
     "output_type": "display_data"
    },
    {
     "data": {
      "image/png": "[encoded data removed]",
      "text/plain": [
       "<Figure size 432x288 with 1 Axes>"
      ]
     },
     "metadata": {
      "needs_background": "light"
     },
     "output_type": "display_data"
    }
   ],
   "source": [
    "plt5.plot(history.history['loss']+history_model_5_fine_tune.history['accuracy'], 'r', label='Loss Training')\n",
    "plt5.plot(history.history['val_loss']+history_model_5_fine_tune.history['val_accuracy'], 'b', label='Loss Validation')\n",
    "plt5.title('Loss Training ve Validation')\n",
    "plt5.ylabel('Loss')\n",
    "plt5.xlabel('Epoch')\n",
    "plt5.axis([0,50,0,1.3])\n",
    "plt5.legend()\n",
    "plt5.show()\n",
    "\n",
    "plt5.plot(history.history['accuracy']+history_model_5_fine_tune.history['accuracy'], 'r', label='Loss Training')\n",
    "plt5.plot(history.history['val_accuracy']+history_model_5_fine_tune.history['val_accuracy'], 'b', label='Loss Validation')\n",
    "plt5.title('Accuracy Training ve Validation')\n",
    "plt5.ylabel('accuracy')\n",
    "plt5.xlabel('val_accuracy')\n",
    "plt5.axis([0,50,0,1])\n",
    "plt5.legend(loc='best')\n",
    "plt5.show()"
   ]
  },
  {
   "cell_type": "code",
   "execution_count": 49,
   "metadata": {
    "id": "qE3tg3yC6n-f"
   },
   "outputs": [],
   "source": [
    "    from sklearn import datasets\n",
    "    from sklearn.tree import DecisionTreeClassifier\n",
    "    from sklearn.model_selection import train_test_split\n",
    "    from sklearn.metrics import classification_report, confusion_matrix\n"
   ]
  },
  {
   "cell_type": "code",
   "execution_count": 50,
   "metadata": {
    "colab": {
     "base_uri": "https://localhost:8080/"
    },
    "id": "YaHkzeep7Cxr",
    "outputId": "16b685eb-2f7b-4179-b815-9954b859742d"
   },
   "outputs": [
    {
     "name": "stdout",
     "output_type": "stream",
     "text": [
      "              precision    recall  f1-score   support\n",
      "\n",
      "     class_0       1.00      1.00      1.00        17\n",
      "     class_1       0.93      0.88      0.90        16\n",
      "     class_2       0.91      0.95      0.93        21\n",
      "\n",
      "    accuracy                           0.94        54\n",
      "   macro avg       0.95      0.94      0.94        54\n",
      "weighted avg       0.94      0.94      0.94        54\n",
      "\n",
      "[[17  0  0]\n",
      " [ 0 14  2]\n",
      " [ 0  1 20]]\n"
     ]
    }
   ],
   "source": [
    "    wine = datasets.load_wine()\n",
    "    X = wine.data\n",
    "    y = wine.target\n",
    "    class_names = wine.target_names\n",
    "    X_train, X_test, y_train, y_test = train_test_split(X, y, test_size=0.30)\n",
    "    classifier_tree = DecisionTreeClassifier()\n",
    "    y_predict = classifier_tree.fit(X_train, y_train).predict(X_test)\n",
    "    print(classification_report(y_test, y_predict, target_names=class_names))\n",
    "    print(confusion_matrix(y_test, y_predict))"
   ]
  }
 ],
 "metadata": {
  "accelerator": "GPU",
  "colab": {
   "collapsed_sections": [],
   "name": "Untitled4_(1).ipynb",
   "provenance": []
  },
  "gpuClass": "standard",
  "kernelspec": {
   "display_name": "Python 3 (ipykernel)",
   "language": "python",
   "name": "python3"
  },
  "language_info": {
   "codemirror_mode": {
    "name": "ipython",
    "version": 3
   },
   "file_extension": ".py",
   "mimetype": "text/x-python",
   "name": "python",
   "nbconvert_exporter": "python",
   "pygments_lexer": "ipython3",
   "version": "3.10.4"
  }
 },
 "nbformat": 4,
 "nbformat_minor": 1
}
